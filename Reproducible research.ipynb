{
 "cells": [
  {
   "cell_type": "markdown",
   "metadata": {
    "slideshow": {
     "slide_type": "slide"
    }
   },
   "source": [
    "<center>\n",
    "    <h1>Narzędzia odtwarzalnej analizy danych</h1>\n",
    "    <h2 style=\"margin-top: 10px\">(a.k.a. Reproducible Research)</h2>\n",
    "    <br />\n",
    "    <br />\n",
    "    <h4>Dariusz Brzeziński</h4>\n",
    "</center>"
   ]
  },
  {
   "cell_type": "markdown",
   "metadata": {
    "slideshow": {
     "slide_type": "slide"
    }
   },
   "source": [
    "Agenda\n",
    "========================================================\n",
    "- **Definicje**\n",
    "    - Repeatable vs Reproducible research \n",
    "    - Literate Statistical Programming\n",
    "- **Narzędzia**\n",
    "    - Git i Github\n",
    "    - Jupyter (i knitr)\n",
    "    - Zenodo\n",
    "- **Praktyczne przykłady**\n",
    "    - Uruchamianie skryptu\n",
    "    - Rysunki i wizualizacje\n",
    "    - Odpytywanie bazy CSD\n",
    "    - Analiza danych"
   ]
  },
  {
   "cell_type": "markdown",
   "metadata": {
    "slideshow": {
     "slide_type": "slide"
    }
   },
   "source": [
    "# Definicje\n",
    "\n",
    "\n",
    "### Powtarzalność (Repeatability)\n",
    "\n",
    "<img src=\"images/cartoon.png\" style=\"float: right; margin-top: 0; margin-left: 15px; width: 300px\"/>\n",
    "Eksperyment jest powtarzalny, jeżeli inny zespół jest w stanie powtórzyć ten sam eksperyment (w możliwie tych samych warunkach) i otrzymać te same wyniki. \n",
    "\n",
    "-------------------------------------------\n",
    "\n",
    "### Odtwarzalność (Reproduciblity)\n",
    "\n",
    "Wyniki eksperymentu są odtwarzalne, jeżeli autorzy eksperymentu dzielą się danymi i pozwalają odtworzyć wszystkie opublikowane wyniki.\n",
    "\n",
    "-------------------------------------------"
   ]
  },
  {
   "cell_type": "markdown",
   "metadata": {
    "slideshow": {
     "slide_type": "slide"
    }
   },
   "source": [
    "# Spostrzeżenia\n",
    "\n",
    "\n",
    "**Eksperyment może być powtarzalny, ale jego wyniki nie muszą być odtwarzalne.**\n",
    "\n",
    "<img src=\"images/yanomami.jpg\" alt=\"yanomami\" width=\"175\" style=\"float: right; margin-top: 0;\"/>\n",
    "\n",
    "Przykład: autorzy nie podzielili się zebranymi danymi na temat członków plemienia Yanomami i zaprezentowali tylko wyniki swojej analizy. Eksperyment można powtórzyć (pojechać nad Amazonkę i zebrać nowe dane), ale analizy nie można odtworzyć na tych samych danych. \n",
    "\n",
    "\n",
    "**Eksperyment może być niepowtarzalny, ale jego wyniki mogą być odtwarzalne.** \n",
    "\n",
    "<img src=\"images/atakapa.jpg\" alt=\"atakapa\" width=\"110\" style=\"float: right; margin-top: 0;\"/>\n",
    "\n",
    "Przykład: autorzy zbadali zwyczaje plemienia Atakapa. Eksperymentu nie można powtórzyć, bo plemię wymarło, ale ponieważ autorzy podzielili się zebranymi danymi i spisali wszystkie obliczeń analizę można w pełni odtworzyć. \n",
    "\n"
   ]
  },
  {
   "cell_type": "markdown",
   "metadata": {
    "slideshow": {
     "slide_type": "slide"
    }
   },
   "source": [
    "![images/reproducibility-spectrum.png](images/reproducibility-spectrum.png)"
   ]
  },
  {
   "cell_type": "markdown",
   "metadata": {
    "slideshow": {
     "slide_type": "slide"
    }
   },
   "source": [
    "Dlaczego warto robić odtwarzalne analizy danych\n",
    "========================================\n",
    "\n",
    "- Niczego nie ukrywamy przed resztą świata naukowego (**transparentność**) <img src=\"images/ok.png\" alt=\"knitr\" style=\"float: right; margin-top: 0; margin-left: 15px; width: 175px\"/>\n",
    "- Inni naukowcy chętniej będą korzystali z naszych wyników (**cytowania**)\n",
    "- Inne osoby łatwiej znajdą błędy w naszych badaniach (**dokładność**)\n",
    "- Osoby z zespołu nie będą musiały nas pytać jak coś zrobiliśmy (**czas**)\n",
    "- Wykonanie anlizy na nowych danych będzie dużo prostsze (**produktywność**)\n",
    "- Nie boimy się powtórzyć własnej analizy (**pewność**)\n",
    "\n",
    "*Podobne zyski dotyczą również [analiz wykonywanych w firmach](https://medium.com/airbnb-engineering/scaling-knowledge-at-airbnb-875d73eff091#.rf1fniree)*"
   ]
  },
  {
   "cell_type": "markdown",
   "metadata": {
    "slideshow": {
     "slide_type": "slide"
    }
   },
   "source": [
    "Podstawy odtwarzalnej analizy danych\n",
    "====================================\n",
    "\n",
    "- **Zdecydować, że analiza będzie odtwarzalna**\n",
    "- Korzystać z repozytorium\n",
    "- Wykorzystać oprogramowanie, gdzie można zaprogramować kolejne kroki\n",
    "- Pracować na surowych danych (nie edytować niczego ręcznie)\n",
    "- Nie zapisywać wyników końcowych\n",
    "- Korzystać z otwartych formatów danych"
   ]
  },
  {
   "cell_type": "markdown",
   "metadata": {
    "slideshow": {
     "slide_type": "slide"
    }
   },
   "source": [
    "Literate Programming\n",
    "==================\n",
    "\n",
    "- Pomysł autorstwa [Donalda Knutha](https://pl.wikipedia.org/wiki/Donald_Knuth) <img src=\"images/knitr.png\" alt=\"knitr\" style=\"float: right; margin-left: 100px;\"/>\n",
    "- Artykuł jako strumień tekstu i kodu\n",
    "- Potrzebny język programowania i język do dokumentacji\n",
    "- Kod podzielony na fragmenty\n",
    "- Opis tłumaczący co się po kolei dzieje\n",
    "- Z artykułu można wyciągnąć tylko kod albo zostawić tylko opis\n",
    "- Przykłady: [Sweave](https://www.statistik.lmu.de/~leisch/Sweave/), [knitr](http://yihui.name/knitr/), [Jupyter](https://jupyter.org/)"
   ]
  },
  {
   "cell_type": "markdown",
   "metadata": {
    "slideshow": {
     "slide_type": "slide"
    }
   },
   "source": [
    "Git\n",
    "====\n",
    "\n",
    "- Git to **system kontroli wersji**\n",
    "- Pomaga śledzić hietorię zmian w plikach\n",
    "- Po edycji pliku potrafi pokazać **kto** zmienił **co** i **dlaczego**\n",
    "- Ułatwia współpracę wielu osób nad jednym projektem \n",
    "- Typowo używany do pracy nad kodem, ale można go też wykorzystywać do prac nad:\n",
    "    - projektem graficznym,\n",
    "    - projektem architektonicznym,\n",
    "    - analizą danych,\n",
    "    - dokumentami,\n",
    "    - materiałami dydaktycznymi..."
   ]
  },
  {
   "cell_type": "markdown",
   "metadata": {
    "slideshow": {
     "slide_type": "slide"
    }
   },
   "source": [
    "Git\n",
    "====\n",
    "\n",
    "- Tradycyjnie obsługiwany z linii poleceń \n",
    "- Istnieją też narzędzia graficzne (np. [TortoiseGit](https://tortoisegit.org/) albo [GitHub Desktop](https://desktop.github.com/))\n",
    "- Podstawowe operacje:\n",
    "    - **commit** zrób checkpoint lokalnie na dysku <img src=\"images/git-shell.png\" alt=\"git-shell\" style=\"float: right; margin-left: 10px; width: 100px\"/>\n",
    "    - **push** zapisz zmiany na serwerze zewnętrznym\n",
    "    - **pull** wczytanie zmian z serwera zewnętrznego\n",
    "    - **revert** cofnięcie zmian do wybranego checkpointa\n",
    "    - **diff** porównaj zmiany"
   ]
  },
  {
   "cell_type": "markdown",
   "metadata": {
    "slideshow": {
     "slide_type": "slide"
    }
   },
   "source": [
    "Demo\n",
    "=====\n",
    "\n",
    "![demo](images/examples.png)"
   ]
  },
  {
   "cell_type": "markdown",
   "metadata": {
    "slideshow": {
     "slide_type": "slide"
    }
   },
   "source": [
    "GitHub\n",
    "======\n",
    "\n",
    "- Najpopularniejsze otwarte repozytorium kodu  <a href=\"https://github.com\"><img src=\"images/github.png\" alt=\"github\" style=\"float: right; margin-top: 0; margin-left: 15px;\"/></a>\n",
    "- Serwer zewnętrzny dla repozytoriów Git\n",
    "- Darmowe dla publicznych projektów\n",
    "- Standard współpracy nad otwartymi projektami informatycznymi\n",
    "    - Możliwość zgłaszania błędów\n",
    "    - Możliwość zgłaszanie poprawek\n",
    "    - Wersjonowanie"
   ]
  },
  {
   "cell_type": "markdown",
   "metadata": {
    "slideshow": {
     "slide_type": "slide"
    }
   },
   "source": [
    "Github\n",
    "======\n",
    "\n",
    "[![github-example.png](images/github-example.png)](https://github.com/dabrze/CheckMyBlob)"
   ]
  },
  {
   "cell_type": "markdown",
   "metadata": {
    "slideshow": {
     "slide_type": "slide"
    }
   },
   "source": [
    "Jupyter\n",
    "=======\n",
    "\n",
    "<img src=\"images/jupyter.png\" alt=\"jupyter\" style=\"float: left; margin-top: 0; margin-left: 15px; width: 175px\"/>\n",
    " \n",
    "- Jedna z implementacji idei Literate Programming\n",
    "- Najpopularniejsze narzędzie dla powtarzalnych analiz w języku Python\n",
    "- Obsługuje tez inne języki (**Ju**=Julia, **pyt**=Python, **er**=R)\n",
    "- Tekst i kod powiązane w **notatnikach** (ang. notebook)\n",
    "- Do pisania tekstu wykorzystywany jest język **Markdown**\n",
    "- Działa w przeglądarce"
   ]
  },
  {
   "cell_type": "markdown",
   "metadata": {
    "slideshow": {
     "slide_type": "slide"
    }
   },
   "source": [
    "Jupyter (dashboard)\n",
    "=================\n",
    "\n",
    "![demo](images/jupyter-dashboard.png)"
   ]
  },
  {
   "cell_type": "markdown",
   "metadata": {
    "slideshow": {
     "slide_type": "slide"
    }
   },
   "source": [
    "Jupyter (notebook)\n",
    "================\n",
    "\n",
    "![demo](images/jupyter-notebook.png)"
   ]
  },
  {
   "cell_type": "markdown",
   "metadata": {
    "slideshow": {
     "slide_type": "slide"
    }
   },
   "source": [
    "Demo\n",
    "=====\n",
    "\n",
    "![demo](images/examples.png)"
   ]
  },
  {
   "cell_type": "markdown",
   "metadata": {
    "slideshow": {
     "slide_type": "slide"
    }
   },
   "source": [
    "Zenodo\n",
    "======\n",
    "\n",
    "- Darmowe repozytorium danych naukowych <a href=\"https://zenodo.org/\"><img src=\"images/zenodo.png\" alt=\"zenodo\" width=\"190\" style=\"float: right; margin-top: 0; margin-left: 15px;\"/></a>\n",
    "- Serwery hostowane przez CERN\n",
    "- Każdy wgrany element otrzymuje własne DOI\n",
    "- Pliki wgrane na Zenodo będą dostępne i łatwo wyszukiwalne przez lata\n",
    "- Integracja z GitHub"
   ]
  },
  {
   "cell_type": "markdown",
   "metadata": {
    "slideshow": {
     "slide_type": "slide"
    }
   },
   "source": [
    "Przykłady\n",
    "========\n",
    "\n",
    "- Na kolejnych slajdach przedstawione zostaną przykłady wykorzystania notatników Jupyter\n",
    "- Przykłady zostały dobrane tak, aby miały związek z krystalografią\n",
    "- Można oczywiście wykorzystać notatniki do wielu innych zadań!"
   ]
  },
  {
   "cell_type": "markdown",
   "metadata": {
    "slideshow": {
     "slide_type": "slide"
    }
   },
   "source": [
    "Uruchamianie skryptu\n",
    "==================\n",
    "\n",
    "Za pomocą jupyter notebooka można pokazać innym autorom kolejne kroki, które wykonano w trakcie analizy. Ponieważ notatniki można uruchamiać, inni naukowcy mogą łatwo powtórzyć te kroki samemu. Pomysły na wykorzystanie: REFMAC, XDS, pymol, ... "
   ]
  },
  {
   "cell_type": "code",
   "execution_count": null,
   "metadata": {
    "scrolled": true
   },
   "outputs": [],
   "source": [
    "# cat ./Reproducible research.ipynb | wc -l\n",
    "!findstr /R /N \"^\" \"Reproducible research.ipynb\"  | find /c /v \"\""
   ]
  },
  {
   "cell_type": "code",
   "execution_count": null,
   "metadata": {
    "slideshow": {
     "slide_type": "slide"
    }
   },
   "outputs": [],
   "source": [
    "PHENIX_BIN = \"C:/Tools/Crystallography/Phenix/phenix-installer-1.14-3260-intel-windows-x86_64/build/bin/\"\n",
    "PDB = \"data/ISO2-1_6A_refine_96.pdb\"\n",
    "MTZ = \"data/ISO2-1_6A_refine_96.mtz\"\n",
    "CIF = \"data/IC-IG-QM-paired-lib.cif\"\n",
    "OPTIONS = \"main.random_seed=7 main.number_of_macro_cycles=0\"\n",
    "\n",
    "cmd = \"{0}phenix.refine {1} {2} {3} {4}\".format(PHENIX_BIN, MTZ, PDB, CIF, OPTIONS)\n",
    "!{cmd}"
   ]
  },
  {
   "cell_type": "markdown",
   "metadata": {
    "slideshow": {
     "slide_type": "slide"
    }
   },
   "source": [
    "Rysunki i wizualizacje\n",
    "==================\n",
    "\n",
    "Notatniki pozwalają w łatwy sposób pokazać jak uzyskano daną wizualizację. Jest to sposób na udowodnienie, że wykresy są oparte na danych eksperymentalnych i nie były w żaden sposób ręcznie modyfikowane."
   ]
  },
  {
   "cell_type": "code",
   "execution_count": 8,
   "metadata": {
    "scrolled": true,
    "slideshow": {
     "slide_type": "slide"
    }
   },
   "outputs": [
    {
     "data": {
      "application/vnd.jupyter.widget-view+json": {
       "model_id": "fa866d307f9d4430a62430bc4469d126",
       "version_major": 2,
       "version_minor": 0
      },
      "text/plain": [
       "NGLWidget()"
      ]
     },
     "metadata": {},
     "output_type": "display_data"
    }
   ],
   "source": [
    "import nglview as nv\n",
    "w = nv.show_pdbid(\"3pqr\")\n",
    "w"
   ]
  },
  {
   "cell_type": "markdown",
   "metadata": {
    "slideshow": {
     "slide_type": "slide"
    }
   },
   "source": [
    "Odpytywanie baz danych\n",
    "======================\n",
    "\n",
    "W notatniku można pokazać jak działając na danych bezpośrednio z bazy danych (np. CSD albo PDB) uzyskano przedstawiane w pracy naukowej wyniki."
   ]
  },
  {
   "cell_type": "code",
   "execution_count": 10,
   "metadata": {
    "scrolled": true,
    "slideshow": {
     "slide_type": "fragment"
    }
   },
   "outputs": [
    {
     "name": "stdout",
     "output_type": "stream",
     "text": [
      "AABHTZ\n"
     ]
    }
   ],
   "source": [
    "%matplotlib inline \n",
    "from ccdc import io\n",
    "from ccdc.diagram import DiagramGenerator\n",
    "from ccdc.search import TextNumericSearch, SubstructureSearch, ConnserSubstructure\n",
    "\n",
    "csd_reader = io.EntryReader('CSD') # można podać własną (pod)bazę CSD\n",
    "first_entry = csd_reader[0]\n",
    "\n",
    "# pierwszy wpis w bazie CSD\n",
    "print(first_entry.identifier)"
   ]
  },
  {
   "cell_type": "markdown",
   "metadata": {
    "slideshow": {
     "slide_type": "slide"
    }
   },
   "source": [
    "Odpytywanie baz danych (diagramy)\n",
    "==============================\n",
    "\n",
    "Znalezioną strukturę można zwizualizować..."
   ]
  },
  {
   "cell_type": "code",
   "execution_count": 11,
   "metadata": {
    "slideshow": {
     "slide_type": "fragment"
    }
   },
   "outputs": [
    {
     "data": {
      "image/png": "[encoded data removed]",
      "text/plain": [
       "<PIL.Image.Image image mode=RGBA size=350x350 at 0x24BA5320>"
      ]
     },
     "execution_count": 11,
     "metadata": {},
     "output_type": "execute_result"
    }
   ],
   "source": [
    "diagram_generator = DiagramGenerator()\n",
    "img = diagram_generator.image(first_entry)\n",
    "img"
   ]
  },
  {
   "cell_type": "markdown",
   "metadata": {
    "slideshow": {
     "slide_type": "slide"
    }
   },
   "source": [
    "Odpytywanie baz danych (przeszukiwanie tekstowe)\n",
    "===========================================\n",
    "\n",
    "CSD można oczywiście przeszukiwać tekstowo (również po synonimach)..."
   ]
  },
  {
   "cell_type": "code",
   "execution_count": 12,
   "metadata": {
    "slideshow": {
     "slide_type": "fragment"
    }
   },
   "outputs": [
    {
     "name": "stdout",
     "output_type": "stream",
     "text": [
      "['ACMEBZ', 'ACSALA', 'ACSALA01', 'ACSALA02', 'ACSALA03', 'ACSALA04', 'ACSALA05', 'ACSALA06', 'ACSALA07', 'ACSALA08', 'ACSALA09', 'ACSALA10', 'ACSALA11', 'ACSALA12', 'ACSALA13', 'ACSALA14', 'ACSALA15', 'ACSALA16', 'ACSALA17', 'ACSALA18', 'ACSALA19', 'ACSALA20', 'ACSALA21', 'ACSALA22', 'ACSALA23', 'ACSALA24', 'ACSALA25', 'ARIFOX', 'ASPRIN', 'BEHWOA', 'CUASPR', 'CUASPR01', 'CUASPR02', 'DIFHOP', 'DIFQAK', 'DISXOU', 'ECONOA', 'EYOMEL', 'EYOMIP', 'EYOMOV', 'EYOMUB', 'EYONAI', 'HUNJEH', 'HUPPOX', 'HUPPOX01', 'IBOBUY', 'IBOBUY01', 'IBOCEJ', 'IBOCEJ01', 'IBOCOT', 'IBOCOT01', 'JIRNEE', 'KEWNOQ', 'KEWNOQ01', 'KICVUP', 'LAJVUO01', 'NINFUN', 'NUKXOH', 'NUWTIJ01', 'NUWTOP01', 'NUWTOP02', 'OKEZUZ', 'PETZAQ', 'PETZIY', 'PETZOE', 'PETZUK', 'PIKYOA', 'PIKYUG', 'PIKZAN', 'SIBYUA', 'SIBYUA01', 'TAZRAO', 'TORQUM02', 'UTUCIW', 'VUGMIT', 'XOJMOZ', 'YIRPEW', 'YOSMOI', 'DIPJAQ', 'TAZRAO01', 'TAZRAO02', 'ACMEBZ', 'ACSALA', 'ACSALA01', 'ACSALA02', 'ACSALA03', 'ACSALA04', 'ACSALA05', 'ACSALA06', 'ACSALA07', 'ACSALA08', 'ACSALA09', 'ACSALA10', 'ACSALA11', 'ACSALA12', 'ACSALA13', 'ACSALA14', 'ACSALA15', 'ACSALA16', 'ACSALA17', 'ACSALA18', 'ACSALA19', 'ACSALA20', 'ACSALA21', 'ACSALA22', 'ACSALA23', 'ACSALA24', 'ACSALA25', 'ARIFOX', 'BEHWOA', 'DIFHOP', 'DIFQAK', 'DISXOU', 'EYOMEL', 'EYOMIP', 'EYOMOV', 'EYOMUB', 'EYONAI', 'HUNJEH', 'HUPPOX', 'HUPPOX01', 'IBOBUY', 'IBOBUY01', 'IBOCEJ', 'IBOCEJ01', 'IBOCOT', 'IBOCOT01', 'JIRNEE', 'KEWNOQ', 'KEWNOQ01', 'LAJVUO01', 'NINFUN', 'NUKXOH', 'NUWTIJ01', 'NUWTOP01', 'NUWTOP02', 'PIKYOA', 'PIKYUG', 'PIKZAN', 'SIBYUA', 'SIBYUA01', 'TORQUM02', 'UTUCIW', 'VUGMIT', 'XOJMOZ', 'YIRPEW', 'YOSMOI', 'DIPJAQ', 'TAZRAO01', 'TAZRAO02']\n"
     ]
    }
   ],
   "source": [
    "text_numeric_search = TextNumericSearch()\n",
    "\n",
    "text_numeric_search.add_compound_name('aspirin')\n",
    "identifiers = [h.identifier for h in text_numeric_search.search()]\n",
    "\n",
    "text_numeric_search.clear()\n",
    "text_numeric_search.add_synonym('aspirin')\n",
    "identifiers.extend([h.identifier for h in text_numeric_search.search()])\n",
    "\n",
    "print(identifiers)"
   ]
  },
  {
   "cell_type": "code",
   "execution_count": 13,
   "metadata": {
    "slideshow": {
     "slide_type": "slide"
    }
   },
   "outputs": [
    {
     "data": {
      "image/png": "[encoded data removed]",
      "text/plain": [
       "<PIL.Image.Image image mode=RGBA size=350x350 at 0x26FE9B70>"
      ]
     },
     "execution_count": 13,
     "metadata": {},
     "output_type": "execute_result"
    }
   ],
   "source": [
    "aspiryna = csd_reader.entry('ACMEBZ')\n",
    "img = diagram_generator.image(aspiryna)\n",
    "img"
   ]
  },
  {
   "cell_type": "markdown",
   "metadata": {
    "slideshow": {
     "slide_type": "slide"
    }
   },
   "source": [
    "Odpytywanie baz danych (zapytania graficzne)\n",
    "======================================\n",
    "\n",
    "Można zadawać zapytania dotyczące geometrii cząsteczek. W tym celu najłatwiej \"wyklikać\" zapytanie w programie CONQUEST. Przykład zapytania poniżej:\n",
    "\n",
    "<img src=\"images/adenina.png\" alt=\"adenina\" style=\"width: 300px\"/>"
   ]
  },
  {
   "cell_type": "markdown",
   "metadata": {
    "slideshow": {
     "slide_type": "slide"
    }
   },
   "source": [
    "Odpytywanie baz danych (zapytania graficzne)\n",
    "======================================"
   ]
  },
  {
   "cell_type": "code",
   "execution_count": 14,
   "metadata": {
    "slideshow": {
     "slide_type": "fragment"
    }
   },
   "outputs": [
    {
     "name": "stdout",
     "output_type": "stream",
     "text": [
      "Znaleziono 437 struktur pasujących do zapytania\n"
     ]
    }
   ],
   "source": [
    "con_substructure = ConnserSubstructure(\"data/adenine.con\")\n",
    "substructure_search = SubstructureSearch()\n",
    "substructure_search.add_substructure(con_substructure)\n",
    "hits = substructure_search.search()\n",
    "print(\"Znaleziono {0} struktur pasujących do zapytania\".format(hits.__len__()))"
   ]
  },
  {
   "cell_type": "markdown",
   "metadata": {
    "slideshow": {
     "slide_type": "slide"
    }
   },
   "source": [
    "Odpytywanie baz danych (analiza wyników)\n",
    "======================================"
   ]
  },
  {
   "cell_type": "code",
   "execution_count": 15,
   "metadata": {
    "slideshow": {
     "slide_type": "fragment"
    }
   },
   "outputs": [
    {
     "data": {
      "text/html": [
       "<div>\n",
       "<style scoped>\n",
       "    .dataframe tbody tr th:only-of-type {\n",
       "        vertical-align: middle;\n",
       "    }\n",
       "\n",
       "    .dataframe tbody tr th {\n",
       "        vertical-align: top;\n",
       "    }\n",
       "\n",
       "    .dataframe thead th {\n",
       "        text-align: right;\n",
       "    }\n",
       "</style>\n",
       "<table border=\"1\" class=\"dataframe\">\n",
       "  <thead>\n",
       "    <tr style=\"text-align: right;\">\n",
       "      <th></th>\n",
       "      <th>C2N3C4</th>\n",
       "      <th>C2_N3</th>\n",
       "      <th>C4C5C6</th>\n",
       "      <th>C4C5N7</th>\n",
       "      <th>C4N9C</th>\n",
       "      <th>C4N9C8</th>\n",
       "      <th>C4_C5</th>\n",
       "      <th>C4_N9</th>\n",
       "      <th>C5C4N9</th>\n",
       "      <th>C5C6NH</th>\n",
       "      <th>...</th>\n",
       "      <th>N1C6C5</th>\n",
       "      <th>N1C6NH</th>\n",
       "      <th>N1_C2</th>\n",
       "      <th>N1_C6</th>\n",
       "      <th>N3C4C5</th>\n",
       "      <th>N3C4N9</th>\n",
       "      <th>N3_C4</th>\n",
       "      <th>N7C8N9</th>\n",
       "      <th>N7_C8</th>\n",
       "      <th>N9_C</th>\n",
       "    </tr>\n",
       "  </thead>\n",
       "  <tbody>\n",
       "    <tr>\n",
       "      <th>ACADOS_0</th>\n",
       "      <td>111.432</td>\n",
       "      <td>1.33764</td>\n",
       "      <td>117.108</td>\n",
       "      <td>110.659</td>\n",
       "      <td>127.614</td>\n",
       "      <td>106.632</td>\n",
       "      <td>1.37783</td>\n",
       "      <td>1.38011</td>\n",
       "      <td>105.505</td>\n",
       "      <td>123.811</td>\n",
       "      <td>...</td>\n",
       "      <td>117.658</td>\n",
       "      <td>118.529</td>\n",
       "      <td>1.33326</td>\n",
       "      <td>1.33908</td>\n",
       "      <td>126.186</td>\n",
       "      <td>128.307</td>\n",
       "      <td>1.33800</td>\n",
       "      <td>113.531</td>\n",
       "      <td>1.31459</td>\n",
       "      <td>1.45412</td>\n",
       "    </tr>\n",
       "    <tr>\n",
       "      <th>ACEQEH_1</th>\n",
       "      <td>110.230</td>\n",
       "      <td>1.33271</td>\n",
       "      <td>116.578</td>\n",
       "      <td>110.532</td>\n",
       "      <td>126.120</td>\n",
       "      <td>105.864</td>\n",
       "      <td>1.38725</td>\n",
       "      <td>1.37649</td>\n",
       "      <td>106.007</td>\n",
       "      <td>123.803</td>\n",
       "      <td>...</td>\n",
       "      <td>117.605</td>\n",
       "      <td>118.560</td>\n",
       "      <td>1.34385</td>\n",
       "      <td>1.35896</td>\n",
       "      <td>127.428</td>\n",
       "      <td>126.564</td>\n",
       "      <td>1.35059</td>\n",
       "      <td>114.096</td>\n",
       "      <td>1.31957</td>\n",
       "      <td>1.46248</td>\n",
       "    </tr>\n",
       "    <tr>\n",
       "      <th>ACOQIS_2</th>\n",
       "      <td>108.961</td>\n",
       "      <td>1.33352</td>\n",
       "      <td>118.557</td>\n",
       "      <td>110.027</td>\n",
       "      <td>126.771</td>\n",
       "      <td>103.814</td>\n",
       "      <td>1.38600</td>\n",
       "      <td>1.38020</td>\n",
       "      <td>107.045</td>\n",
       "      <td>124.965</td>\n",
       "      <td>...</td>\n",
       "      <td>116.701</td>\n",
       "      <td>118.326</td>\n",
       "      <td>1.32801</td>\n",
       "      <td>1.35923</td>\n",
       "      <td>126.123</td>\n",
       "      <td>126.778</td>\n",
       "      <td>1.35514</td>\n",
       "      <td>116.067</td>\n",
       "      <td>1.30980</td>\n",
       "      <td>1.45834</td>\n",
       "    </tr>\n",
       "    <tr>\n",
       "      <th>ACUHUB_3</th>\n",
       "      <td>110.659</td>\n",
       "      <td>1.32858</td>\n",
       "      <td>117.117</td>\n",
       "      <td>110.835</td>\n",
       "      <td>126.903</td>\n",
       "      <td>105.837</td>\n",
       "      <td>1.38369</td>\n",
       "      <td>1.36764</td>\n",
       "      <td>105.886</td>\n",
       "      <td>123.672</td>\n",
       "      <td>...</td>\n",
       "      <td>117.943</td>\n",
       "      <td>118.383</td>\n",
       "      <td>1.34519</td>\n",
       "      <td>1.36154</td>\n",
       "      <td>126.636</td>\n",
       "      <td>127.476</td>\n",
       "      <td>1.35036</td>\n",
       "      <td>113.886</td>\n",
       "      <td>1.31008</td>\n",
       "      <td>1.45013</td>\n",
       "    </tr>\n",
       "    <tr>\n",
       "      <th>ADBURM_4</th>\n",
       "      <td>113.465</td>\n",
       "      <td>1.31135</td>\n",
       "      <td>116.657</td>\n",
       "      <td>109.038</td>\n",
       "      <td>126.722</td>\n",
       "      <td>105.755</td>\n",
       "      <td>1.36964</td>\n",
       "      <td>1.33902</td>\n",
       "      <td>107.258</td>\n",
       "      <td>121.909</td>\n",
       "      <td>...</td>\n",
       "      <td>120.398</td>\n",
       "      <td>117.626</td>\n",
       "      <td>1.34310</td>\n",
       "      <td>1.30052</td>\n",
       "      <td>123.753</td>\n",
       "      <td>128.885</td>\n",
       "      <td>1.35823</td>\n",
       "      <td>112.424</td>\n",
       "      <td>1.29429</td>\n",
       "      <td>1.51167</td>\n",
       "    </tr>\n",
       "  </tbody>\n",
       "</table>\n",
       "<p>5 rows × 29 columns</p>\n",
       "</div>"
      ],
      "text/plain": [
       "           C2N3C4    C2_N3   C4C5C6   C4C5N7    C4N9C   C4N9C8    C4_C5  \\\n",
       "ACADOS_0  111.432  1.33764  117.108  110.659  127.614  106.632  1.37783   \n",
       "ACEQEH_1  110.230  1.33271  116.578  110.532  126.120  105.864  1.38725   \n",
       "ACOQIS_2  108.961  1.33352  118.557  110.027  126.771  103.814  1.38600   \n",
       "ACUHUB_3  110.659  1.32858  117.117  110.835  126.903  105.837  1.38369   \n",
       "ADBURM_4  113.465  1.31135  116.657  109.038  126.722  105.755  1.36964   \n",
       "\n",
       "            C4_N9   C5C4N9   C5C6NH  ...   N1C6C5   N1C6NH    N1_C2    N1_C6  \\\n",
       "ACADOS_0  1.38011  105.505  123.811  ...  117.658  118.529  1.33326  1.33908   \n",
       "ACEQEH_1  1.37649  106.007  123.803  ...  117.605  118.560  1.34385  1.35896   \n",
       "ACOQIS_2  1.38020  107.045  124.965  ...  116.701  118.326  1.32801  1.35923   \n",
       "ACUHUB_3  1.36764  105.886  123.672  ...  117.943  118.383  1.34519  1.36154   \n",
       "ADBURM_4  1.33902  107.258  121.909  ...  120.398  117.626  1.34310  1.30052   \n",
       "\n",
       "           N3C4C5   N3C4N9    N3_C4   N7C8N9    N7_C8     N9_C  \n",
       "ACADOS_0  126.186  128.307  1.33800  113.531  1.31459  1.45412  \n",
       "ACEQEH_1  127.428  126.564  1.35059  114.096  1.31957  1.46248  \n",
       "ACOQIS_2  126.123  126.778  1.35514  116.067  1.30980  1.45834  \n",
       "ACUHUB_3  126.636  127.476  1.35036  113.886  1.31008  1.45013  \n",
       "ADBURM_4  123.753  128.885  1.35823  112.424  1.29429  1.51167  \n",
       "\n",
       "[5 rows x 29 columns]"
      ]
     },
     "execution_count": 15,
     "metadata": {},
     "output_type": "execute_result"
    }
   ],
   "source": [
    "import pandas as pd\n",
    "\n",
    "df = pd.DataFrame([h.measurements for h in hits], index=list([h.identifier + \"_\" + str(idx) for idx, h in enumerate(hits)]))\n",
    "df.head()"
   ]
  },
  {
   "cell_type": "markdown",
   "metadata": {
    "slideshow": {
     "slide_type": "slide"
    }
   },
   "source": [
    "Odpytywanie baz danych (analiza wyników)\n",
    "======================================"
   ]
  },
  {
   "cell_type": "code",
   "execution_count": 38,
   "metadata": {
    "slideshow": {
     "slide_type": "fragment"
    }
   },
   "outputs": [
    {
     "data": {
      "image/png": "[encoded data removed]",
      "text/plain": [
       "<Figure size 1152x864 with 12 Axes>"
      ]
     },
     "metadata": {
      "needs_background": "light"
     },
     "output_type": "display_data"
    }
   ],
   "source": [
    "bonds = ['N1_C2', 'C2_N3', 'N3_C4', 'C4_C5', 'C5_C6', 'N1_C6', 'C5_N7', 'N7_C8', 'C8_N9', 'N9_C', 'C6_NH']\n",
    "df.loc[:, bonds].hist(bins=20, figsize=(16, 12));"
   ]
  },
  {
   "cell_type": "markdown",
   "metadata": {
    "slideshow": {
     "slide_type": "slide"
    }
   },
   "source": [
    "Podsumowanie\n",
    "============\n",
    "\n",
    "- Warto aby badania były **powtarzalne** i **odtwarzalne**\n",
    "- Dane (wraz z historią) łatwo przechowywać na **repozytorium**\n",
    "- Analiza może być napisana w postaci **notatnika**\n",
    "- Zbiory danych można wgrać na **Zenodo**\n",
    "- Przykłady zastosowań **w krystalografii**:\n",
    "    - Uruchamianie skryptów\n",
    "    - Zapytania do bazy CSD\n",
    "    - Wizualizacje danych\n",
    "    - Analiza danych z bazy PDB\n",
    "    \n",
    "<br />\n",
    "Kod prezentacji: https://github.com/dabrze/reproduciblity"
   ]
  },
  {
   "cell_type": "markdown",
   "metadata": {
    "slideshow": {
     "slide_type": "slide"
    }
   },
   "source": [
    "Linki\n",
    "======\n",
    "\n",
    "- https://tortoisegit.org/ <img src=\"images/linki.png\" alt=\"linki\" style=\"float: right; margin-top: 0; margin-left: 50px; width: 200px\"/>\n",
    "- https://github.com/\n",
    "- https://jupyter.org/\n",
    "- https://zenodo.org/\n",
    "- [CSD Python API](https://downloads.ccdc.cam.ac.uk/documentation/API/descriptive_docs/primer.html)\n",
    "- https://bitmoji.com/"
   ]
  }
 ],
 "metadata": {
  "celltoolbar": "Slideshow",
  "kernelspec": {
   "display_name": "Python 2",
   "language": "python",
   "name": "python2"
  },
  "language_info": {
   "codemirror_mode": {
    "name": "ipython",
    "version": 2
   },
   "file_extension": ".py",
   "mimetype": "text/x-python",
   "name": "python",
   "nbconvert_exporter": "python",
   "pygments_lexer": "ipython2",
   "version": "2.7.15"
  }
 },
 "nbformat": 4,
 "nbformat_minor": 2
}
