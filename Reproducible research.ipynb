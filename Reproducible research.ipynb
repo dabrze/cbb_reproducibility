{
 "cells": [
  {
   "cell_type": "markdown",
   "metadata": {
    "slideshow": {
     "slide_type": "slide"
    }
   },
   "source": [
    "<center>\n",
    "    <h1>Narzędzia odtwarzalnej analizy danych</h1>\n",
    "    <h2 style=\"margin-top: 10px\">(a.k.a. Reproducible Research)</h2>\n",
    "    <br />\n",
    "    <br />\n",
    "    <h4>Dariusz Brzeziński</h4>\n",
    "</center>"
   ]
  },
  {
   "cell_type": "markdown",
   "metadata": {
    "slideshow": {
     "slide_type": "slide"
    }
   },
   "source": [
    "Agenda\n",
    "========================================================\n",
    "- **Definicje**\n",
    "    - Repeatable vs Reproducible research \n",
    "    - Literate Statistical Programming\n",
    "- **Narzędzia**\n",
    "    - Git i Github\n",
    "    - Jupyter (i knitr)\n",
    "    - Zenodo\n",
    "- **Praktyczne przykłady**\n",
    "    - Uruchamianie skryptu\n",
    "    - Rysunki i wizualizacje\n",
    "    - Odpytywanie bazy CSD\n",
    "    - Analiza danych"
   ]
  },
  {
   "cell_type": "markdown",
   "metadata": {
    "slideshow": {
     "slide_type": "slide"
    }
   },
   "source": [
    "# Definicje\n",
    "\n",
    "\n",
    "### Powtarzalność (Repeatability)\n",
    "\n",
    "<img src=\"images/cartoon.png\" style=\"float: right; margin-top: 0; margin-left: 15px; width: 300px\"/>\n",
    "Eksperyment jest powtarzalny, jeżeli inny zespół jest w stanie powtórzyć ten sam eksperyment (w możliwie tych samych warunkach) i otrzymać te same wyniki. \n",
    "\n",
    "-------------------------------------------\n",
    "\n",
    "### Odtwarzalność (Reproduciblity)\n",
    "\n",
    "Wyniki eksperymentu są odtwarzalne, jeżeli autorzy eksperymentu dzielą się danymi i pozwalają odtworzyć wszystkie opublikowane wyniki.\n",
    "\n",
    "-------------------------------------------"
   ]
  },
  {
   "cell_type": "markdown",
   "metadata": {
    "slideshow": {
     "slide_type": "slide"
    }
   },
   "source": [
    "# Spostrzeżenia\n",
    "\n",
    "\n",
    "**Eksperyment może być powtarzalny, ale jego wyniki nie muszą być odtwarzalne.**\n",
    "\n",
    "<img src=\"images/yanomami.jpg\" alt=\"yanomami\" width=\"175\" style=\"float: right; margin-top: 0;\"/>\n",
    "\n",
    "Przykład: autorzy nie podzielili się zebranymi danymi na temat członków plemienia Yanomami i zaprezentowali tylko wyniki swojej analizy. Eksperyment można powtórzyć (pojechać nad Amazonkę i zebrać nowe dane), ale analizy nie można odtworzyć na tych samych danych. \n",
    "\n",
    "\n",
    "**Eksperyment może być niepowtarzalny, ale jego wyniki mogą być odtwarzalne.** \n",
    "\n",
    "<img src=\"images/atakapa.jpg\" alt=\"atakapa\" width=\"110\" style=\"float: right; margin-top: 0;\"/>\n",
    "\n",
    "Przykład: autorzy zbadali zwyczaje plemienia Atakapa. Eksperymentu nie można powtórzyć, bo plemię wymarło, ale ponieważ autorzy podzielili się zebranymi danymi i spisali wszystkie obliczeń analizę można w pełni odtworzyć. \n",
    "\n"
   ]
  },
  {
   "attachments": {},
   "cell_type": "markdown",
   "metadata": {
    "slideshow": {
     "slide_type": "slide"
    }
   },
   "source": [
    "![images/reproducibility-spectrum.png](images/reproducibility-spectrum.png)"
   ]
  },
  {
   "cell_type": "markdown",
   "metadata": {
    "slideshow": {
     "slide_type": "slide"
    }
   },
   "source": [
    "Dlaczego warto robić odtwarzalne analizy danych\n",
    "========================================\n",
    "\n",
    "- Niczego nie ukrywamy przed resztą świata naukowego (**transparentność**) <img src=\"images/ok.png\" alt=\"knitr\" style=\"float: right; margin-top: 0; margin-left: 15px; width: 175px\"/>\n",
    "- Inni naukowcy chętniej będą korzystali z naszych wyników (**cytowania**)\n",
    "- Inne osoby łatwiej znajdą błędy w naszych badaniach (**dokładność**)\n",
    "- Osoby z zespołu nie będą musiały nas pytać jak coś zrobiliśmy (**czas**)\n",
    "- Wykonanie anlizy na nowych danych będzie dużo prostsze (**produktywność**)\n",
    "- Nie boimy się powtórzyć własnej analizy (**pewność**)\n",
    "\n",
    "*Podobne zyski dotyczą również [analiz wykonywanych w firmach](https://medium.com/airbnb-engineering/scaling-knowledge-at-airbnb-875d73eff091#.rf1fniree)*"
   ]
  },
  {
   "cell_type": "markdown",
   "metadata": {
    "slideshow": {
     "slide_type": "slide"
    }
   },
   "source": [
    "Podstawy odtwarzalnej analizy danych\n",
    "====================================\n",
    "\n",
    "- **Zdecydować, że analiza będzie odtwarzalna**\n",
    "- Korzystać z repozytorium\n",
    "- Wykorzystać oprogramowanie, gdzie można zaprogramować kolejne kroki\n",
    "- Pracować na surowych danych (nie edytować niczego ręcznie)\n",
    "- Nie zapisywać wyników końcowych\n",
    "- Korzystać z otwartych formatów danych"
   ]
  },
  {
   "cell_type": "markdown",
   "metadata": {
    "slideshow": {
     "slide_type": "slide"
    }
   },
   "source": [
    "Literate Programming\n",
    "==================\n",
    "\n",
    "- Pomysł autorstwa [Donalda Knutha](https://pl.wikipedia.org/wiki/Donald_Knuth) <img src=\"images/knitr.png\" alt=\"knitr\" style=\"float: right; margin-left: 100px;\"/>\n",
    "- Artykuł jako strumień tekstu i kodu\n",
    "- Potrzebny język programowania i język do dokumentacji\n",
    "- Kod podzielony na fragmenty\n",
    "- Opis tłumaczący co się po kolei dzieje\n",
    "- Z artykułu można wyciągnąć tylko kod albo zostawić tylko opis\n",
    "- Przykłady: [Sweave](https://www.statistik.lmu.de/~leisch/Sweave/), [knitr](http://yihui.name/knitr/), [Jupyter](https://jupyter.org/)"
   ]
  },
  {
   "cell_type": "markdown",
   "metadata": {
    "slideshow": {
     "slide_type": "slide"
    }
   },
   "source": [
    "Git\n",
    "====\n",
    "\n",
    "- Git to **system kontroli wersji**\n",
    "- Pomaga śledzić hietorię zmian w plikach\n",
    "- Po edycji pliku potrafi pokazać **kto** zmienił **co** i **dlaczego**\n",
    "- Ułatwia współpracę wielu osób nad jednym projektem \n",
    "- Typowo używany do pracy nad kodem, ale można go też wykorzystywać do prac nad:\n",
    "    - projektem graficznym,\n",
    "    - projektem architektonicznym,\n",
    "    - analizą danych,\n",
    "    - dokumentami,\n",
    "    - materiałami dydaktycznymi..."
   ]
  },
  {
   "cell_type": "markdown",
   "metadata": {
    "slideshow": {
     "slide_type": "slide"
    }
   },
   "source": [
    "Git\n",
    "====\n",
    "\n",
    "- Tradycyjnie obsługiwany z linii poleceń \n",
    "- Istnieją też narzędzia graficzne (np. [TortoiseGit](https://tortoisegit.org/) albo [GitHub Desktop](https://desktop.github.com/))\n",
    "- Podstawowe operacje:\n",
    "    - **commit** zrób checkpoint lokalnie na dysku <img src=\"images/git-shell.png\" alt=\"git-shell\" style=\"float: right; margin-left: 10px; width: 100px\"/>\n",
    "    - **push** zapisz zmiany na serwerze zewnętrznym\n",
    "    - **pull** wczytanie zmian z serwera zewnętrznego\n",
    "    - **revert** cofnięcie zmian do wybranego checkpointa\n",
    "    - **diff** porównaj zmiany"
   ]
  },
  {
   "cell_type": "markdown",
   "metadata": {
    "slideshow": {
     "slide_type": "slide"
    }
   },
   "source": [
    "Demo\n",
    "=====\n",
    "\n",
    "![demo](images/examples.png)"
   ]
  },
  {
   "cell_type": "markdown",
   "metadata": {
    "slideshow": {
     "slide_type": "slide"
    }
   },
   "source": [
    "GitHub\n",
    "======\n",
    "\n",
    "- Najpopularniejsze otwarte repozytorium kodu  <a href=\"https://github.com\"><img src=\"images/github.png\" alt=\"github\" style=\"float: right; margin-top: 0; margin-left: 15px;\"/></a>\n",
    "- Serwer zewnętrzny dla repozytoriów Git\n",
    "- Darmowe dla publicznych projektów\n",
    "- Standard współpracy nad otwartymi projektami informatycznymi\n",
    "    - Możliwość zgłaszania błędów\n",
    "    - Możliwość zgłaszanie poprawek\n",
    "    - Wersjonowanie"
   ]
  },
  {
   "cell_type": "markdown",
   "metadata": {
    "slideshow": {
     "slide_type": "slide"
    }
   },
   "source": [
    "Github\n",
    "======\n",
    "\n",
    "[![github-example.png](images/github-example.png)](https://github.com/dabrze/CheckMyBlob)"
   ]
  },
  {
   "cell_type": "markdown",
   "metadata": {
    "slideshow": {
     "slide_type": "slide"
    }
   },
   "source": [
    "Jupyter\n",
    "=======\n",
    "\n",
    "<img src=\"images/jupyter.png\" alt=\"jupyter\" style=\"float: left; margin-top: 0; margin-left: 15px; width: 175px\"/>\n",
    " \n",
    "- Jedna z implementacji idei Literate Programming\n",
    "- Najpopularniejsze narzędzie dla powtarzalnych analiz w języku Python\n",
    "- Obsługuje tez inne języki (**Ju**=Julia, **pyt**=Python, **er**=R)\n",
    "- Tekst i kod powiązane w **notatnikach** (ang. notebook)\n",
    "- Do pisania tekstu wykorzystywany jest język **Markdown**\n",
    "- Działa w przeglądarce"
   ]
  },
  {
   "cell_type": "markdown",
   "metadata": {
    "slideshow": {
     "slide_type": "slide"
    }
   },
   "source": [
    "Jupyter (dashboard)\n",
    "=================\n",
    "\n",
    "![demo](images/jupyter-dashboard.png)"
   ]
  },
  {
   "cell_type": "markdown",
   "metadata": {
    "slideshow": {
     "slide_type": "slide"
    }
   },
   "source": [
    "Jupyter (notebook)\n",
    "================\n",
    "\n",
    "![demo](images/jupyter-notebook.png)"
   ]
  },
  {
   "cell_type": "markdown",
   "metadata": {
    "slideshow": {
     "slide_type": "slide"
    }
   },
   "source": [
    "Demo\n",
    "=====\n",
    "\n",
    "![demo](images/examples.png)"
   ]
  },
  {
   "cell_type": "markdown",
   "metadata": {
    "slideshow": {
     "slide_type": "slide"
    }
   },
   "source": [
    "Zenodo\n",
    "======\n",
    "\n",
    "- Darmowe repozytorium danych naukowych <a href=\"https://zenodo.org/\"><img src=\"images/zenodo.png\" alt=\"zenodo\" width=\"190\" style=\"float: right; margin-top: 0; margin-left: 15px;\"/></a>\n",
    "- Serwery hostowane przez CERN\n",
    "- Każdy wgrany element otrzymuje własne DOI\n",
    "- Pliki wgrane na Zenodo będą dostępne i łatwo wyszukiwalne przez lata\n",
    "- Integracja z GitHub"
   ]
  },
  {
   "cell_type": "markdown",
   "metadata": {
    "slideshow": {
     "slide_type": "slide"
    }
   },
   "source": [
    "Przykłady\n",
    "========\n",
    "\n",
    "- Na kolejnych slajdach przedstawione zostaną przykłady wykorzystania notatników Jupyter\n",
    "- Przykłady zostały dobrane tak, aby miały związek z krystalografią\n",
    "- Można oczywiście wykorzystać notatniki do wielu innych zadań!"
   ]
  },
  {
   "cell_type": "markdown",
   "metadata": {
    "slideshow": {
     "slide_type": "slide"
    }
   },
   "source": [
    "Uruchamianie skryptu\n",
    "==================\n",
    "\n",
    "Za pomocą jupyter notebooka można pokazać innym autorom kolejne kroki, które wykonano w trakcie analizy. Ponieważ notatniki można uruchamiać, inni naukowcy mogą łatwo powtórzyć te kroki samemu. Pomysły na wykorzystanie: REFMAC, XDS, pymol, ... "
   ]
  },
  {
   "cell_type": "code",
   "execution_count": 13,
   "metadata": {
    "scrolled": true
   },
   "outputs": [
    {
     "name": "stdout",
     "output_type": "stream",
     "text": [
      " Volume in drive C has no label.\n",
      " Volume Serial Number is 242D-5AEE\n",
      "\n",
      " Directory of C:\\Praca\\Uczelnia\\Praca naukowa\\Seminaria\\2019 Seminarium CBB - Reproducible research\n",
      "\n",
      "05.06.2019  13:08    <DIR>          .\n",
      "05.06.2019  13:08    <DIR>          ..\n",
      "03.06.2019  23:14    <DIR>          .ipynb_checkpoints\n",
      "19.08.2015  10:16            19˙994 cs.put.css\n",
      "04.06.2019  10:31    <DIR>          data\n",
      "05.06.2019  09:30    <DIR>          images\n",
      "05.06.2019  13:08            20˙516 Reproducible research.ipynb\n",
      "               2 File(s)         40˙510 bytes\n",
      "               5 Dir(s)  133˙120˙712˙704 bytes free\n"
     ]
    }
   ],
   "source": [
    "# ls\n",
    "!dir"
   ]
  },
  {
   "cell_type": "code",
   "execution_count": 27,
   "metadata": {
    "slideshow": {
     "slide_type": "slide"
    }
   },
   "outputs": [
    {
     "name": "stdout",
     "output_type": "stream",
     "text": [
      "1509\n"
     ]
    }
   ],
   "source": [
    "# cat ./Reproducible research.ipynb | wc -l\n",
    "!findstr /R /N \"^\" \"Reproducible research.ipynb\"  | find /c /v \"\""
   ]
  },
  {
   "cell_type": "markdown",
   "metadata": {
    "slideshow": {
     "slide_type": "slide"
    }
   },
   "source": [
    "Rysunki i wizualizacje\n",
    "==================\n",
    "\n",
    "Notatniki pozwalają w łatwy sposób pokazać jak uzyskano daną wizualizację. Jest to sposób na udowodnienie, że wykresy są oparte na danych eksperymentalnych i nie były w żaden sposób ręcznie modyfikowane."
   ]
  },
  {
   "cell_type": "code",
   "execution_count": 1,
   "metadata": {
    "scrolled": true,
    "slideshow": {
     "slide_type": "slide"
    }
   },
   "outputs": [
    {
     "data": {
      "application/vnd.jupyter.widget-view+json": {
       "model_id": "47872a2cf3c8457b9951a470da84318e",
       "version_major": 2,
       "version_minor": 0
      },
      "text/plain": [
       "NGLWidget()"
      ]
     },
     "metadata": {},
     "output_type": "display_data"
    }
   ],
   "source": [
    "import nglview as nv\n",
    "w = nv.show_pdbid(\"3pqr\")\n",
    "w"
   ]
  },
  {
   "cell_type": "markdown",
   "metadata": {
    "slideshow": {
     "slide_type": "slide"
    }
   },
   "source": [
    "Odpytywanie baz danych\n",
    "======================\n",
    "\n",
    "W notatniku można pokazać jak działając na danych bezpośrednio z bazy danych (np. CSD albo PDB) uzyskano przedstawiane w pracy naukowej wyniki."
   ]
  },
  {
   "cell_type": "code",
   "execution_count": 2,
   "metadata": {
    "slideshow": {
     "slide_type": "-"
    }
   },
   "outputs": [
    {
     "name": "stdout",
     "output_type": "stream",
     "text": [
      "AABHTZ\n"
     ]
    }
   ],
   "source": [
    "from ccdc import io\n",
    "entry_reader = io.EntryReader('CSD')\n",
    "first_entry = entry_reader[0]\n",
    "print first_entry.identifier"
   ]
  },
  {
   "cell_type": "code",
   "execution_count": 3,
   "metadata": {
    "slideshow": {
     "slide_type": "slide"
    }
   },
   "outputs": [
    {
     "data": {
      "text/plain": [
       "['ACMEBZ',\n",
       " 'ACSALA',\n",
       " 'ACSALA01',\n",
       " 'ACSALA02',\n",
       " 'ACSALA03',\n",
       " 'ACSALA04',\n",
       " 'ACSALA05',\n",
       " 'ACSALA06',\n",
       " 'ACSALA07',\n",
       " 'ACSALA08',\n",
       " 'ACSALA09',\n",
       " 'ACSALA10',\n",
       " 'ACSALA11',\n",
       " 'ACSALA12',\n",
       " 'ACSALA13',\n",
       " 'ACSALA14',\n",
       " 'ACSALA15',\n",
       " 'ACSALA16',\n",
       " 'ACSALA17',\n",
       " 'ACSALA18',\n",
       " 'ACSALA19',\n",
       " 'ACSALA20',\n",
       " 'ACSALA21',\n",
       " 'ACSALA22',\n",
       " 'ACSALA23',\n",
       " 'ACSALA24',\n",
       " 'ACSALA25',\n",
       " 'ARIFOX',\n",
       " 'ASPRIN',\n",
       " 'BEHWOA',\n",
       " 'CUASPR',\n",
       " 'CUASPR01',\n",
       " 'CUASPR02',\n",
       " 'DIFHOP',\n",
       " 'DIFQAK',\n",
       " 'DISXOU',\n",
       " 'ECONOA',\n",
       " 'EYOMEL',\n",
       " 'EYOMIP',\n",
       " 'EYOMOV',\n",
       " 'EYOMUB',\n",
       " 'EYONAI',\n",
       " 'HUNJEH',\n",
       " 'HUPPOX',\n",
       " 'HUPPOX01',\n",
       " 'IBOBUY',\n",
       " 'IBOBUY01',\n",
       " 'IBOCEJ',\n",
       " 'IBOCEJ01',\n",
       " 'IBOCOT',\n",
       " 'IBOCOT01',\n",
       " 'JIRNEE',\n",
       " 'KEWNOQ',\n",
       " 'KEWNOQ01',\n",
       " 'KICVUP',\n",
       " 'LAJVUO01',\n",
       " 'NINFUN',\n",
       " 'NUKXOH',\n",
       " 'NUWTIJ01',\n",
       " 'NUWTOP01',\n",
       " 'NUWTOP02',\n",
       " 'OKEZUZ',\n",
       " 'PETZAQ',\n",
       " 'PETZIY',\n",
       " 'PETZOE',\n",
       " 'PETZUK',\n",
       " 'PIKYOA',\n",
       " 'PIKYUG',\n",
       " 'PIKZAN',\n",
       " 'SIBYUA',\n",
       " 'SIBYUA01',\n",
       " 'TAZRAO',\n",
       " 'TORQUM02',\n",
       " 'UTUCIW',\n",
       " 'VUGMIT',\n",
       " 'XOJMOZ',\n",
       " 'YIRPEW',\n",
       " 'YOSMOI',\n",
       " 'DIPJAQ',\n",
       " 'TAZRAO01',\n",
       " 'TAZRAO02',\n",
       " 'ACMEBZ',\n",
       " 'ACSALA',\n",
       " 'ACSALA01',\n",
       " 'ACSALA02',\n",
       " 'ACSALA03',\n",
       " 'ACSALA04',\n",
       " 'ACSALA05',\n",
       " 'ACSALA06',\n",
       " 'ACSALA07',\n",
       " 'ACSALA08',\n",
       " 'ACSALA09',\n",
       " 'ACSALA10',\n",
       " 'ACSALA11',\n",
       " 'ACSALA12',\n",
       " 'ACSALA13',\n",
       " 'ACSALA14',\n",
       " 'ACSALA15',\n",
       " 'ACSALA16',\n",
       " 'ACSALA17',\n",
       " 'ACSALA18',\n",
       " 'ACSALA19',\n",
       " 'ACSALA20',\n",
       " 'ACSALA21',\n",
       " 'ACSALA22',\n",
       " 'ACSALA23',\n",
       " 'ACSALA24',\n",
       " 'ACSALA25',\n",
       " 'ARIFOX',\n",
       " 'BEHWOA',\n",
       " 'DIFHOP',\n",
       " 'DIFQAK',\n",
       " 'DISXOU',\n",
       " 'EYOMEL',\n",
       " 'EYOMIP',\n",
       " 'EYOMOV',\n",
       " 'EYOMUB',\n",
       " 'EYONAI',\n",
       " 'HUNJEH',\n",
       " 'HUPPOX',\n",
       " 'HUPPOX01',\n",
       " 'IBOBUY',\n",
       " 'IBOBUY01',\n",
       " 'IBOCEJ',\n",
       " 'IBOCEJ01',\n",
       " 'IBOCOT',\n",
       " 'IBOCOT01',\n",
       " 'JIRNEE',\n",
       " 'KEWNOQ',\n",
       " 'KEWNOQ01',\n",
       " 'LAJVUO01',\n",
       " 'NINFUN',\n",
       " 'NUKXOH',\n",
       " 'NUWTIJ01',\n",
       " 'NUWTOP01',\n",
       " 'NUWTOP02',\n",
       " 'PIKYOA',\n",
       " 'PIKYUG',\n",
       " 'PIKZAN',\n",
       " 'SIBYUA',\n",
       " 'SIBYUA01',\n",
       " 'TORQUM02',\n",
       " 'UTUCIW',\n",
       " 'VUGMIT',\n",
       " 'XOJMOZ',\n",
       " 'YIRPEW',\n",
       " 'YOSMOI',\n",
       " 'DIPJAQ',\n",
       " 'TAZRAO01',\n",
       " 'TAZRAO02']"
      ]
     },
     "execution_count": 3,
     "metadata": {},
     "output_type": "execute_result"
    }
   ],
   "source": [
    "from ccdc.search import TextNumericSearch\n",
    "\n",
    "text_numeric_search = TextNumericSearch()\n",
    "text_numeric_search.add_compound_name('aspirin')\n",
    "identifiers = [h.identifier for h in text_numeric_search.search()]\n",
    "text_numeric_search.clear()\n",
    "text_numeric_search.add_synonym('aspirin')\n",
    "identifiers.extend([h.identifier for h in text_numeric_search.search()])\n",
    "identifiers"
   ]
  },
  {
   "cell_type": "markdown",
   "metadata": {
    "slideshow": {
     "slide_type": "slide"
    }
   },
   "source": [
    "Podsumowanie\n",
    "============\n",
    "\n",
    "- Warto aby badania były **powtarzalne** i **odtwarzalne**\n",
    "- Dane (wraz z historią) łatwo przechowywać na **repozytorium**\n",
    "- Analiza może być napisana w postaci **notatnika**\n",
    "- Zbiory danych można wgrać na **Zenodo**\n",
    "- Przykłady zastosowań **w krystalografii**:\n",
    "    - Uruchamianie skryptów\n",
    "    - Zapytania do bazy CSD\n",
    "    - Wizualizacje danych\n",
    "    \n",
    "<br />\n",
    "Kod prezentacji: https://github.com/dabrze/reproduciblity"
   ]
  },
  {
   "cell_type": "markdown",
   "metadata": {
    "slideshow": {
     "slide_type": "slide"
    }
   },
   "source": [
    "Linki\n",
    "======\n",
    "\n",
    "- https://tortoisegit.org/ <img src=\"images/linki.png\" alt=\"linki\" style=\"float: right; margin-top: 0; margin-left: 50px; width: 200px\"/>\n",
    "- https://github.com/\n",
    "- https://jupyter.org/\n",
    "- https://zenodo.org/\n",
    "- [CSD Python API](https://downloads.ccdc.cam.ac.uk/documentation/API/descriptive_docs/primer.html)\n",
    "- https://bitmoji.com/"
   ]
  }
 ],
 "metadata": {
  "celltoolbar": "Slideshow",
  "kernelspec": {
   "display_name": "Python 2",
   "language": "python",
   "name": "python2"
  },
  "language_info": {
   "codemirror_mode": {
    "name": "ipython",
    "version": 2
   },
   "file_extension": ".py",
   "mimetype": "text/x-python",
   "name": "python",
   "nbconvert_exporter": "python",
   "pygments_lexer": "ipython2",
   "version": "2.7.15"
  }
 },
 "nbformat": 4,
 "nbformat_minor": 2
}
