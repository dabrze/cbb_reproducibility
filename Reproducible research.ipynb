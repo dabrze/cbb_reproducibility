{
 "cells": [
  {
   "cell_type": "markdown",
   "metadata": {
    "slideshow": {
     "slide_type": "slide"
    }
   },
   "source": [
    "<center>\n",
    "    <h1>Narzędzia odtwarzalnej analizy danych</h1>\n",
    "    <h2 style=\"margin-top: 10px\">(a.k.a. Reproducible Research)</h2>\n",
    "    <br />\n",
    "    <br />\n",
    "    <h4>Dariusz Brzeziński</h4>\n",
    "</center>"
   ]
  },
  {
   "cell_type": "markdown",
   "metadata": {
    "slideshow": {
     "slide_type": "slide"
    }
   },
   "source": [
    "Agenda\n",
    "========================================================\n",
    "- **Definicje**\n",
    "    - Repeatable vs Reproducible research \n",
    "    - Literate (Statistical) Programming\n",
    "- **Narzędzia**\n",
    "    - Git i Github\n",
    "    - Jupyter (i knitr)\n",
    "    - Zenodo\n",
    "- **Praktyczne przykłady**\n",
    "    - Uruchamianie skryptu\n",
    "    - Rysunki i wizualizacje\n",
    "    - Odpytywanie bazy CSD\n",
    "    - Analiza danych"
   ]
  },
  {
   "cell_type": "markdown",
   "metadata": {
    "slideshow": {
     "slide_type": "slide"
    }
   },
   "source": [
    "# Definicje\n",
    "\n",
    "\n",
    "### Powtarzalność (Repeatability)\n",
    "\n",
    "<img src=\"images/cartoon.png\" style=\"float: right; margin-top: 0; margin-left: 15px; width: 300px\"/>\n",
    "Eksperyment jest powtarzalny, jeżeli inny zespół jest w stanie powtórzyć ten sam eksperyment (w możliwie tych samych warunkach) i otrzymać te same wyniki. \n",
    "\n",
    "-------------------------------------------\n",
    "\n",
    "### Odtwarzalność (Reproduciblity)\n",
    "\n",
    "Wyniki eksperymentu są odtwarzalne, jeżeli autorzy eksperymentu dzielą się danymi i pozwalają odtworzyć wszystkie opublikowane wyniki.\n",
    "\n",
    "-------------------------------------------"
   ]
  },
  {
   "cell_type": "markdown",
   "metadata": {
    "slideshow": {
     "slide_type": "slide"
    }
   },
   "source": [
    "# Spostrzeżenia\n",
    "\n",
    "\n",
    "**Eksperyment może być powtarzalny, ale jego wyniki nie muszą być odtwarzalne.**\n",
    "\n",
    "<img src=\"images/yanomami.jpg\" alt=\"yanomami\" width=\"175\" style=\"float: right; margin-top: 0;\"/>\n",
    "\n",
    "Przykład: Autorzy nie podzielili się zebranymi danymi na temat członków plemienia Yanomami i zaprezentowali tylko wyniki swojej analizy. Eksperyment można powtórzyć (pojechać nad Amazonkę i zebrać nowe dane), ale analizy nie można odtworzyć na tych samych danych. \n",
    "\n",
    "\n",
    "**Eksperyment może być niepowtarzalny, ale jego wyniki mogą być odtwarzalne.** \n",
    "\n",
    "<img src=\"images/atakapa.jpg\" alt=\"atakapa\" width=\"110\" style=\"float: right; margin-top: 0;\"/>\n",
    "\n",
    "Przykład: Autorzy zbadali zwyczaje plemienia Atakapa. Eksperymentu nie można powtórzyć, bo plemię wymarło, ale ponieważ autorzy podzielili się zebranymi danymi i spisali wszystkie kroki obliczeń, analizę można w pełni odtworzyć. \n",
    "\n"
   ]
  },
  {
   "cell_type": "markdown",
   "metadata": {
    "slideshow": {
     "slide_type": "slide"
    }
   },
   "source": [
    "![images/reproducibility-spectrum.png](images/reproducibility-spectrum.png)"
   ]
  },
  {
   "cell_type": "markdown",
   "metadata": {
    "slideshow": {
     "slide_type": "slide"
    }
   },
   "source": [
    "Dlaczego warto robić odtwarzalne analizy danych\n",
    "========================================\n",
    "\n",
    "- Niczego nie ukrywamy przed resztą świata naukowego (**transparentność**) <img src=\"images/ok.png\" alt=\"knitr\" style=\"float: right; margin-top: 0; margin-left: 15px; width: 175px\"/>\n",
    "- Inni naukowcy chętniej będą korzystali z naszych wyników (**cytowania**)\n",
    "- Inne osoby łatwiej znajdą błędy w naszych badaniach (**dokładność**)\n",
    "- Osoby z zespołu nie będą musiały nas pytać jak coś zrobiliśmy (**czas**)\n",
    "- Wykonanie analizy na nowych danych będzie dużo prostsze (**produktywność**)\n",
    "- Nie boimy się powtórzyć własnej analizy (**pewność**)\n",
    "\n",
    "*Podobne zyski dotyczą również [analiz wykonywanych w firmach](https://medium.com/airbnb-engineering/scaling-knowledge-at-airbnb-875d73eff091#.rf1fniree)*"
   ]
  },
  {
   "cell_type": "markdown",
   "metadata": {
    "slideshow": {
     "slide_type": "slide"
    }
   },
   "source": [
    "Podstawy odtwarzalnej analizy danych\n",
    "====================================\n",
    "\n",
    "- **Zdecydować, że analiza będzie odtwarzalna**\n",
    "- Korzystać z repozytorium\n",
    "- Wykorzystać oprogramowanie, w którym można zaprogramować kolejne kroki\n",
    "- Pracować na surowych danych (**nie edytować niczego ręcznie**)\n",
    "- Nie zapisywać wyników końcowych\n",
    "- Korzystać z otwartych formatów danych"
   ]
  },
  {
   "cell_type": "markdown",
   "metadata": {
    "slideshow": {
     "slide_type": "slide"
    }
   },
   "source": [
    "Literate Programming\n",
    "==================\n",
    "\n",
    "- Pomysł autorstwa [Donalda Knutha](https://pl.wikipedia.org/wiki/Donald_Knuth)\n",
    "- Artykuł jako strumień tekstu i kodu\n",
    "- Potrzebny język programowania i język do dokumentacji <img src=\"images/knitr.png\" alt=\"knitr\" style=\"float: right; margin-left: 100px;\"/>\n",
    "- Kod podzielony na fragmenty\n",
    "- Opis tłumaczący co się po kolei dzieje\n",
    "- Z artykułu można wyciągnąć tylko kod albo zostawić tylko opis\n",
    "- Przykłady: [LaTeX](https://en.wikipedia.org/wiki/LaTeX), [Sweave](https://en.wikipedia.org/wiki/Sweave), [knitr](http://yihui.name/knitr/), [Jupyter](https://jupyter.org/)"
   ]
  },
  {
   "cell_type": "markdown",
   "metadata": {
    "slideshow": {
     "slide_type": "slide"
    }
   },
   "source": [
    "Git\n",
    "====\n",
    "\n",
    "- Git to **system kontroli wersji**\n",
    "- Pomaga śledzić hietorię zmian w plikach\n",
    "- Po edycji pliku potrafi pokazać **kto** zmienił **co** i **dlaczego**\n",
    "- Ułatwia współpracę wielu osób nad jednym projektem \n",
    "- Typowo używany do pracy nad kodem, ale można go też wykorzystywać do prac nad:\n",
    "    - projektem graficznym,\n",
    "    - projektem architektonicznym,\n",
    "    - analizą danych,\n",
    "    - dokumentami,\n",
    "    - materiałami dydaktycznymi..."
   ]
  },
  {
   "cell_type": "markdown",
   "metadata": {
    "slideshow": {
     "slide_type": "slide"
    }
   },
   "source": [
    "Git\n",
    "====\n",
    "\n",
    "- Tradycyjnie obsługiwany z linii poleceń \n",
    "- Istnieją też narzędzia graficzne (np. [TortoiseGit](https://tortoisegit.org/) albo [GitHub Desktop](https://desktop.github.com/))\n",
    "- Podstawowe operacje:\n",
    "    - **commit** zrób checkpoint lokalnie na dysku <img src=\"images/git-shell.png\" alt=\"git-shell\" style=\"float: right; margin-left: 10px; width: 100px\"/>\n",
    "    - **push** zapisz zmiany na serwerze zewnętrznym\n",
    "    - **pull** wczytanie zmian z serwera zewnętrznego\n",
    "    - **revert** cofnięcie zmian do wybranego checkpointa\n",
    "    - **diff** porównaj zmiany"
   ]
  },
  {
   "cell_type": "markdown",
   "metadata": {
    "slideshow": {
     "slide_type": "slide"
    }
   },
   "source": [
    "Demo\n",
    "====="
   ]
  },
  {
   "cell_type": "markdown",
   "metadata": {
    "slideshow": {
     "slide_type": "fragment"
    }
   },
   "source": [
    "![demo](images/examples.png)"
   ]
  },
  {
   "cell_type": "markdown",
   "metadata": {
    "slideshow": {
     "slide_type": "slide"
    }
   },
   "source": [
    "GitHub\n",
    "======\n",
    "\n",
    "- Najpopularniejsze otwarte repozytorium kodu  <a href=\"https://github.com\"><img src=\"images/github.png\" alt=\"github\" style=\"float: right; margin-top: 0; margin-left: 15px;\"/></a>\n",
    "- Serwer zewnętrzny dla repozytoriów Git\n",
    "- Darmowe dla publicznych projektów\n",
    "- Standard współpracy nad otwartymi projektami informatycznymi\n",
    "    - Możliwość zgłaszania błędów\n",
    "    - Możliwość zgłaszania poprawek\n",
    "    - Wersjonowanie"
   ]
  },
  {
   "cell_type": "markdown",
   "metadata": {
    "slideshow": {
     "slide_type": "slide"
    }
   },
   "source": [
    "Github\n",
    "======\n",
    "\n",
    "[![github-example.png](images/github-example.png)](https://github.com/dabrze/CheckMyBlob)"
   ]
  },
  {
   "cell_type": "markdown",
   "metadata": {
    "slideshow": {
     "slide_type": "slide"
    }
   },
   "source": [
    "Jupyter\n",
    "=======\n",
    "\n",
    "<img src=\"images/jupyter.png\" alt=\"jupyter\" style=\"float: left; margin-top: 0; margin-left: 15px; width: 175px\"/>\n",
    " \n",
    "- Jedna z implementacji idei Literate Programming\n",
    "- Najpopularniejsze narzędzie dla powtarzalnych analiz w języku Python\n",
    "- Obsługuje tez inne języki (**Ju**=Julia, **pyt**=Python, **er**=R)\n",
    "- Tekst i kod powiązane w **notatnikach** (ang. notebook)\n",
    "- Do pisania tekstu wykorzystywany jest język **Markdown**\n",
    "- Działa w przeglądarce (**możliwość pracy zdalnej**)"
   ]
  },
  {
   "cell_type": "markdown",
   "metadata": {
    "slideshow": {
     "slide_type": "slide"
    }
   },
   "source": [
    "Jupyter (dashboard)\n",
    "=================\n",
    "\n",
    "![demo](images/jupyter-dashboard.png)"
   ]
  },
  {
   "cell_type": "markdown",
   "metadata": {
    "slideshow": {
     "slide_type": "slide"
    }
   },
   "source": [
    "Jupyter (notebook)\n",
    "================\n",
    "\n",
    "![demo](images/jupyter-notebook.png)"
   ]
  },
  {
   "cell_type": "markdown",
   "metadata": {
    "slideshow": {
     "slide_type": "slide"
    }
   },
   "source": [
    "Demo\n",
    "=====\n",
    "\n",
    "![demo](images/examples.png)"
   ]
  },
  {
   "cell_type": "markdown",
   "metadata": {
    "slideshow": {
     "slide_type": "slide"
    }
   },
   "source": [
    "Zenodo\n",
    "======\n",
    "\n",
    "- Darmowe repozytorium danych naukowych <a href=\"https://zenodo.org/\"><img src=\"images/zenodo.png\" alt=\"zenodo\" width=\"190\" style=\"float: right; margin-top: 0; margin-left: 15px;\"/></a>\n",
    "- Serwery hostowane przez CERN\n",
    "- Każdy wgrany element otrzymuje własne DOI\n",
    "- Pliki wgrane na Zenodo będą dostępne i łatwo wyszukiwalne przez lata\n",
    "- Integracja z GitHub"
   ]
  },
  {
   "cell_type": "markdown",
   "metadata": {
    "slideshow": {
     "slide_type": "slide"
    }
   },
   "source": [
    "Przykłady\n",
    "========\n",
    "\n",
    "- Na kolejnych slajdach przedstawione zostaną przykłady wykorzystania notatników Jupyter\n",
    "- Przykłady zostały dobrane tak, aby miały związek z krystalografią\n",
    "- Można oczywiście wykorzystać notatniki do wielu innych zadań!"
   ]
  },
  {
   "cell_type": "markdown",
   "metadata": {
    "slideshow": {
     "slide_type": "slide"
    }
   },
   "source": [
    "Uruchamianie skryptu\n",
    "==================\n",
    "\n",
    "Za pomocą jupyter notebooka można pokazać innym autorom kolejne kroki, które wykonano w trakcie analizy. Ponieważ notatniki można uruchamiać, inni naukowcy mogą łatwo powtórzyć te kroki samemu. Pomysły na wykorzystanie: refmac, phenix, XDS, pymol, ... "
   ]
  },
  {
   "cell_type": "code",
   "execution_count": 1,
   "metadata": {
    "scrolled": true
   },
   "outputs": [
    {
     "name": "stdout",
     "output_type": "stream",
     "text": [
      "2532\n"
     ]
    }
   ],
   "source": [
    "# cat ./Reproducible research.ipynb | wc -l\n",
    "!findstr /R /N \"^\" \"Reproducible research.ipynb\"  | find /c /v \"\""
   ]
  },
  {
   "cell_type": "markdown",
   "metadata": {
    "slideshow": {
     "slide_type": "slide"
    }
   },
   "source": [
    "Uruchamianie skryptu\n",
    "=================="
   ]
  },
  {
   "cell_type": "code",
   "execution_count": 2,
   "metadata": {
    "slideshow": {
     "slide_type": "-"
    }
   },
   "outputs": [
    {
     "name": "stdout",
     "output_type": "stream",
     "text": [
      "# Date 2019-06-07 Time 09:48:01 Środkowoeuropejski czas letni +0200 (1559893681.56 s)\n",
      "#phil __OFF__\n",
      "\n",
      "Command line arguments: \"data/ISO2-1_6A_refine_96.mtz\" \"data/ISO2-1_6A_refine_96.pdb\" \"data/IC-IG-QM-paired-lib.cif\" \"main.random_seed=7\" \"main.number_of_macro_cycles=0\"\n",
      "\n",
      "COMPUTERNAME = KERMIT\n",
      "PROCESSOR_ARCHITECTURE = AMD64\n",
      "USERNAME = Lenovo\n",
      "PID = 14512\n",
      "\n",
      "-------------------------------------------------------------------------------\n",
      "  PHENIX: Python-based Hierarchical ENvironment for Integrated Xtallography\n",
      "  Version: 1.14\n",
      "  Release tag: 3260\n",
      "  Platform: intel-windows-x86_64\n",
      "  User: Lenovo\n",
      "-------------------------------------------------------------------------------\n",
      "\n",
      "              phenix.refine: Macromolecular Structure Refinement\n",
      "\n",
      "-------------------------------------------------------------------------------\n",
      "\n",
      "Phenix developers include:\n",
      "  Paul Adams, Pavel Afonine, Gabor Bunkoczi, Tom Burnley, Vincent Chen, \n",
      "  Youval Dar, Ian Davis, Eli Draizen, Nathaniel Echols, Richard Gildea, \n",
      "  Piet Gros, Ralf Grosse-Kunstleve, Jeffrey Headd, Bradley Hintze, Li-Wei Hung, \n",
      "  Tom Ioerger, Dorothee Liebschner, Airlie McCoy, Erik McKee, Nigel Moriarty, \n",
      "  Robert Oeffner, Billy Poon, Randy Read, Jane Richardson, David Richardson, \n",
      "  Jim Sacchettini, Nicholas Sauter, Oleg Sobolev, Laurent Storoni, \n",
      "  Tom Terwilliger, Christopher Williams, Peter Zwart\n",
      "Phenix home page:\n",
      "  http://www.phenix-online.org/\n",
      "-------------------------------------------------------------------------------\n",
      "\n",
      "-------------------------------------------------------------------------------\n",
      "Phenix components are copyrighted by:\n",
      "  - Lawrence Berkeley National Laboratory\n",
      "  - Los Alamos National Laboratory\n",
      "  - University of Cambridge\n",
      "  - Duke University\n",
      "  - Texas Agricultural Experiment Station &\n",
      "    Texas Engineering Experiment Station\n",
      "-------------------------------------------------------------------------------\n",
      "\n",
      "-------------------------------------------------------------------------------\n",
      "Major third-party components of Phenix include:\n",
      "    Python, wxWidgets, wxPython, Boost, SCons, Clipper,\n",
      "    CCP4 Monomer Library, CCP4 I/O libraries, PyCifRW, FFTPACK, L-BFGS,\n",
      "    MUSCLE, KSDSSP, PULCHRA, ANTLRv3\n",
      "  Enter phenix.acknowledgments for details.\n",
      "-------------------------------------------------------------------------------\n",
      "\n",
      "Processing inputs. This may take a minute or two.\n",
      "\n",
      "Command line parameter definitions:\n",
      "  refinement.main.random_seed = 7\n",
      "\n",
      "  refinement.main.number_of_macro_cycles = 0\n",
      "\n",
      "  No user-defined map coefficients or files defined; will use default map\n",
      "  outputs instead.\n",
      "Working crystal symmetry after inspecting all inputs:\n",
      "  Unit cell: (42.251, 38.802, 84.18, 90, 93.479, 90)\n",
      "  Space group: C 1 2 1 (No. 5)\n",
      "\n",
      "\n",
      "================================== X-ray data =================================\n",
      "\n",
      "I-obs:\n",
      "  data/ISO2-1_6A_refine_96.mtz:I-obs,SIGI-obs\n",
      "\n",
      "Miller array info: data/ISO2-1_6A_refine_96.mtz:I-obs,SIGI-obs\n",
      "Observation type: xray.intensity\n",
      "Type of data: double, size=17941\n",
      "Type of sigmas: double, size=17941\n",
      "Number of Miller indices: 17941\n",
      "Anomalous flag: False\n",
      "Unit cell: (42.251, 38.802, 84.18, 90, 93.479, 90)\n",
      "Space group: C 1 2 1 (No. 5)\n",
      "Systematic absences: 0\n",
      "Centric reflections: 994\n",
      "Resolution range: 28.5547 1.60043\n",
      "Completeness in resolution range: 0.989302\n",
      "Completeness with d_max=infinity: 0.989193\n",
      "Wavelength: 1.0000\n",
      "\n",
      "\n",
      "     ----------Scaling input intensities via French-Wilson Method----------    \n",
      "\n",
      "Trying 60 bins...\n",
      "Number of bins = 60\n",
      "** Calculating bin mean intensity values for each intensity **\n",
      "** Total # rejected intensities: 0 **\n",
      "Intensities converted to amplitudes for use in refinement.\n",
      "\n",
      "Number of F-obs in resolution range:                   17941\n",
      "Number of F-obs<0 (these reflections will be rejected): 0\n",
      "Number of F-obs=0 (these reflections will be used in refinement): 0\n",
      "Refinement resolution range: d_max =  28.5547\n",
      "                             d_min =   1.6004\n",
      "\n",
      "R-free flags:\n",
      "  data/ISO2-1_6A_refine_96.mtz:R-free-flags\n",
      "\n",
      "Miller array info: data/ISO2-1_6A_refine_96.mtz:R-free-flags\n",
      "Observation type: None\n",
      "Type of data: int, size=17941\n",
      "Type of sigmas: None\n",
      "Number of Miller indices: 17941\n",
      "Anomalous flag: False\n",
      "Unit cell: (42.251, 38.802, 84.18, 90, 93.479, 90)\n",
      "Space group: C 1 2 1 (No. 5)\n",
      "Systematic absences: 0\n",
      "Centric reflections: 994\n",
      "Resolution range: 28.5547 1.60043\n",
      "Completeness in resolution range: 0.989302\n",
      "Completeness with d_max=infinity: 0.989193\n",
      "Wavelength: 1.0000\n",
      "\n",
      "Test (R-free flags) flag value: 0\n",
      "\n",
      "Number of work/free reflections by resolution:\n",
      "                                         work  free  %free\n",
      "  bin  1: 28.5592 -  3.4462 [1864/1881]  1760   104   5.6%\n",
      "  bin  2:  3.4462 -  2.7361 [1819/1828]  1717   102   5.6%\n",
      "  bin  3:  2.7361 -  2.3904 [1788/1804]  1689    99   5.5%\n",
      "  bin  4:  2.3904 -  2.1719 [1818/1829]  1716   102   5.6%\n",
      "  bin  5:  2.1719 -  2.0163 [1796/1809]  1696   100   5.6%\n",
      "  bin  6:  2.0163 -  1.8974 [1789/1801]  1690    99   5.5%\n",
      "  bin  7:  1.8974 -  1.8024 [1765/1791]  1666    99   5.6%\n",
      "  bin  8:  1.8024 -  1.7240 [1804/1823]  1704   100   5.5%\n",
      "  bin  9:  1.7240 -  1.6576 [1755/1785]  1657    98   5.6%\n",
      "  bin 10:  1.6576 -  1.6004 [1743/1784]  1646    97   5.6%\n",
      "                                overall 16941  1000   5.6%\n",
      "  Monomer Library directory:\n",
      "    \"c:\\tools\\crystallography\\phenix\\phenix-installer-1.14-3260-intel-windows-x86_64\\modules\\chem_data\\mon_lib\"\n",
      "  Total number of atoms: 1850\n",
      "  Number of models: 1\n",
      "  Model: \"\"\n",
      "    Number of chains: 5\n",
      "    Chain: \"A\"\n",
      "      Number of atoms: 326\n",
      "      Number of conformers: 1\n",
      "      Conformer: \"\"\n",
      "        Number of residues, atoms: 10, 326\n",
      "          Classifications: {'RNA': 10}\n",
      "          Modifications used: {'5*END': 1, '3*END': 1, 'rna3p': 2, 'rna3p_pur': 5, 'rna3p_pyr': 3}\n",
      "          Link IDs: {'rna3p': 9}\n",
      "          Unresolved non-hydrogen bonds: 2\n",
      "          Unresolved non-hydrogen angles: 6\n",
      "          Unresolved non-hydrogen dihedrals: 2\n",
      "    Chain: \"B\"\n",
      "      Number of atoms: 391\n",
      "      Number of conformers: 2\n",
      "      Conformer: \"A\"\n",
      "        Number of residues, atoms: 10, 326\n",
      "          Classifications: {'RNA': 10}\n",
      "          Modifications used: {'5*END': 1, '3*END': 1, 'rna3p': 2, 'rna3p_pur': 5, 'rna3p_pyr': 3}\n",
      "          Link IDs: {'rna3p': 9}\n",
      "          Unresolved non-hydrogen bonds: 2\n",
      "          Unresolved non-hydrogen angles: 6\n",
      "          Unresolved non-hydrogen dihedrals: 2\n",
      "      Conformer: \"B\"\n",
      "        Number of residues, atoms: 10, 326\n",
      "          Classifications: {'RNA': 10}\n",
      "          Modifications used: {'5*END': 1, '3*END': 1, 'rna3p': 2, 'rna3p_pur': 5, 'rna3p_pyr': 3}\n",
      "          Link IDs: {'rna3p': 9}\n",
      "          Unresolved non-hydrogen bonds: 2\n",
      "          Unresolved non-hydrogen angles: 6\n",
      "          Unresolved non-hydrogen dihedrals: 2\n",
      "          bond proxies already assigned to first conformer: 280\n",
      "    Chain: \"C\"\n",
      "      Number of atoms: 652\n",
      "      Number of conformers: 2\n",
      "      Conformer: \"A\"\n",
      "        Number of residues, atoms: 10, 326\n",
      "          Classifications: {'RNA': 10}\n",
      "          Modifications used: {'5*END': 1, '3*END': 1, 'rna3p': 2, 'rna3p_pur': 5, 'rna3p_pyr': 3}\n",
      "          Link IDs: {'rna3p': 9}\n",
      "          Unresolved non-hydrogen bonds: 2\n",
      "          Unresolved non-hydrogen angles: 6\n",
      "          Unresolved non-hydrogen dihedrals: 2\n",
      "      Conformer: \"B\"\n",
      "        Number of residues, atoms: 10, 326\n",
      "          Classifications: {'RNA': 10}\n",
      "          Modifications used: {'5*END': 1, '3*END': 1, 'rna3p': 2, 'rna3p_pur': 5, 'rna3p_pyr': 3}\n",
      "          Link IDs: {'rna3p': 9}\n",
      "          Unresolved non-hydrogen bonds: 2\n",
      "          Unresolved non-hydrogen angles: 6\n",
      "          Unresolved non-hydrogen dihedrals: 2\n",
      "    Chain: \"D\"\n",
      "      Number of atoms: 377\n",
      "      Number of conformers: 2\n",
      "      Conformer: \"A\"\n",
      "        Number of residues, atoms: 10, 326\n",
      "          Classifications: {'RNA': 10}\n",
      "          Modifications used: {'5*END': 1, '3*END': 1, 'rna3p': 2, 'rna3p_pur': 5, 'rna3p_pyr': 3}\n",
      "          Link IDs: {'rna3p': 9}\n",
      "          Unresolved non-hydrogen bonds: 2\n",
      "          Unresolved non-hydrogen angles: 6\n",
      "          Unresolved non-hydrogen dihedrals: 2\n",
      "      Conformer: \"B\"\n",
      "        Number of residues, atoms: 10, 326\n",
      "          Classifications: {'RNA': 10}\n",
      "          Modifications used: {'5*END': 1, '3*END': 1, 'rna3p': 2, 'rna3p_pur': 5, 'rna3p_pyr': 3}\n",
      "          Link IDs: {'rna3p': 9}\n",
      "          Unresolved non-hydrogen bonds: 2\n",
      "          Unresolved non-hydrogen angles: 6\n",
      "          Unresolved non-hydrogen dihedrals: 2\n",
      "          bond proxies already assigned to first conformer: 296\n",
      "    Chain: \"S\"\n",
      "      Number of atoms: 104\n",
      "      Number of conformers: 2\n",
      "      Conformer: \"A\"\n",
      "        Number of residues, atoms: 100, 100\n",
      "          Classifications: {'water': 100}\n",
      "          Link IDs: {None: 99}\n",
      "      Conformer: \"B\"\n",
      "        Number of residues, atoms: 100, 100\n",
      "          Classifications: {'water': 100}\n",
      "          Link IDs: {None: 99}\n",
      "  Residues with excluded nonbonded symmetry interactions: 17\n",
      "    residue:\n",
      "      pdb=\" C1'A IC B  14 \" occ=0.38\n",
      "      ... (60 atoms not shown)\n",
      "      pdb=\"HO2'B IC B  14 \" occ=0.62\n",
      "    residue:\n",
      "      pdb=\" P  A  G B  15 \" occ=0.48\n",
      "      ... (66 atoms not shown)\n",
      "      pdb=\" H22B  G B  15 \" occ=0.52\n",
      "    residue:\n",
      "      pdb=\" O5'A  G C   1 \" occ=0.52\n",
      "      ... (62 atoms not shown)\n",
      "      pdb=\"HO5'B  G C   1 \" occ=0.48\n",
      "    residue:\n",
      "      pdb=\" P  A  G C   2 \" occ=0.52\n",
      "      ... (66 atoms not shown)\n",
      "      pdb=\" H22B  G C   2 \" occ=0.48\n",
      "    residue:\n",
      "      pdb=\" P  A  C C   3 \" occ=0.52\n",
      "      ... (60 atoms not shown)\n",
      "      pdb=\" H6 B  C C   3 \" occ=0.48\n",
      "    residue:\n",
      "      pdb=\" C1'A IC C   4 \" occ=0.60\n",
      "      ... (60 atoms not shown)\n",
      "      pdb=\"HO2'B IC C   4 \" occ=0.40\n",
      "    residue:\n",
      "      pdb=\" P  A  G C   5 \" occ=0.48\n",
      "      ... (66 atoms not shown)\n",
      "      pdb=\" H22B  G C   5 \" occ=0.52\n",
      "    residue:\n",
      "      pdb=\" P  A  A C   6 \" occ=0.48\n",
      "      ... (64 atoms not shown)\n",
      "      pdb=\" H2 B  A C   6 \" occ=0.52\n",
      "    residue:\n",
      "      pdb=\" C1'A IG C   7 \" occ=0.61\n",
      "      ... (66 atoms not shown)\n",
      "      pdb=\"HO2'B IG C   7 \" occ=0.39\n",
      "    residue:\n",
      "      pdb=\" P  A  G C   8 \" occ=0.61\n",
      "      ... (66 atoms not shown)\n",
      "      pdb=\" H22B  G C   8 \" occ=0.39\n",
      "    residue:\n",
      "      pdb=\" P  A  C C   9 \" occ=0.61\n",
      "      ... (60 atoms not shown)\n",
      "      pdb=\" H6 B  C C   9 \" occ=0.39\n",
      "    residue:\n",
      "      pdb=\" P  A  C C  10 \" occ=0.61\n",
      "      ... (62 atoms not shown)\n",
      "      pdb=\" H6 B  C C  10 \" occ=0.39\n",
      "    ... (remaining 5 not shown)\n",
      "  Time building chain proxies: 0.39, per 1000 atoms: 0.21\n",
      "  Number of scatterers: 1850\n",
      "  At special positions: 1\n",
      "  Unit cell: (42.251, 38.802, 84.18, 90, 93.479, 90)\n",
      "  Space group: C 1 2 1 (No. 5)\n",
      "  Number of sites at special positions: 1\n",
      "    Minimum distance between symmetrically equivalent sites: 0.5\n",
      "    Label                   Mult   Shift    Fractional coordinates\n",
      "    pdb=\" O   HOH S  66 \"     2    0.000 (  0.0000  -0.1744   0.0000) original\n",
      "                          site sym 2     (  0.0000  -0.1744   0.0000) exact\n",
      "                                                    0,y,0\n",
      "  Number of scattering types: 5\n",
      "    Type Number    sf(0)\n",
      "     P      49     15.00\n",
      "     O     466      8.00\n",
      "     N     221      7.00\n",
      "     C     513      6.00\n",
      "     H     601      1.00\n",
      "    sf(0) = scattering factor at diffraction angle 0.\n",
      "\n",
      "\n",
      "No array of experimental phases found.\n",
      "\n",
      "\n",
      "============================== Scattering factors =============================\n",
      "\n",
      "\n",
      "                ----------X-ray scattering dictionary----------                \n",
      "\n",
      "Number of scattering types: 5\n",
      "  Type Number    sf(0)   Gaussians\n",
      "   P      49     14.95       2\n",
      "   O     466      7.97       2\n",
      "   N     221      6.97       2\n",
      "   C     513      5.97       2\n",
      "   H     601      1.00       2\n",
      "  sf(0) = scattering factor at diffraction angle 0.\n",
      "\n",
      "\n",
      "==================== Fixing bad ADP in input model (if any) ===================\n",
      "\n",
      "\n",
      "========================== Anomalous scatterer groups =========================\n",
      "\n",
      "All atoms refined with f_prime=0 and f_double_prime=0.\n",
      "  Number of disulfides: simple=0, symmetry=0\n",
      "\n",
      "  Automatic linking\n",
      "    Parameters for automatic linking\n",
      "      Linking & cutoffs\n",
      "        Metal                : False - 3.50\n",
      "        Amimo acid           : False - 1.90\n",
      "        Carbohydrate         : True  - 1.99\n",
      "        Ligands              : True  - 1.99\n",
      "        Small molecules      : False - 1.98\n",
      "        Amino acid - RNA/DNA : False\n",
      "      \n",
      "  Number of custom bonds: simple=0, symmetry=0\n",
      "  Time building additional restraints: 0.43\n",
      "  Conformation dependent library (CDL) restraints added in 8.0 milliseconds\n",
      "  \n",
      "  Adding C-beta torsion restraints...\n",
      "  Number of C-beta restraints generated:  0\n",
      "\n",
      "  Time building geometry restraints manager: 0.47 seconds\n",
      "\n",
      "  NOTE: a complete listing of the restraints can be obtained by requesting\n",
      "        output of .geo file.\n",
      "\n",
      "  Histogram of bond lengths:\n",
      "        0.84 -     1.00: 493\n",
      "        1.00 -     1.15: 108\n",
      "        1.15 -     1.31: 63\n",
      "        1.31 -     1.47: 762\n",
      "        1.47 -     1.62: 455\n",
      "  Bond restraints: 1881\n",
      "  Sorted by residual:\n",
      "  bond pdb=\" O5'A  C C   3 \"\n",
      "       pdb=\" C5'A  C C   3 \"\n",
      "    ideal  model  delta    sigma   weight residual\n",
      "    1.420  1.474 -0.054 1.50e-02 4.44e+03 1.30e+01\n",
      "  bond pdb=\" N1 A IG C   7 \"\n",
      "       pdb=\" H1 A IG C   7 \"\n",
      "    ideal  model  delta    sigma   weight residual\n",
      "    1.040  0.969  0.071 2.00e-02 2.50e+03 1.26e+01\n",
      "  bond pdb=\" O3'   C B  19 \"\n",
      "       pdb=\" P     C B  20 \"\n",
      "    ideal  model  delta    sigma   weight residual\n",
      "    1.607  1.563  0.044 1.50e-02 4.44e+03 8.66e+00\n",
      "  bond pdb=\" C1'  IG D  17 \"\n",
      "       pdb=\" N9   IG D  17 \"\n",
      "    ideal  model  delta    sigma   weight residual\n",
      "    1.475  1.434  0.041 1.50e-02 4.44e+03 7.62e+00\n",
      "  bond pdb=\" N1   IG D  17 \"\n",
      "       pdb=\" H1   IG D  17 \"\n",
      "    ideal  model  delta    sigma   weight residual\n",
      "    1.040  0.990  0.050 2.00e-02 2.50e+03 6.27e+00\n",
      "  ... (remaining 1876 not shown)\n",
      "\n",
      "  Histogram of bond angle deviations from ideal:\n",
      "       98.71 -   105.88: 329\n",
      "      105.88 -   113.04: 1659\n",
      "      113.04 -   120.21: 796\n",
      "      120.21 -   127.38: 456\n",
      "      127.38 -   134.55: 111\n",
      "  Bond angle restraints: 3351\n",
      "  Sorted by residual:\n",
      "  angle pdb=\" C4'   G D  15 \"\n",
      "        pdb=\" C3'   G D  15 \"\n",
      "        pdb=\" O3'   G D  15 \"\n",
      "      ideal   model   delta    sigma   weight residual\n",
      "     113.00  107.13    5.87 1.50e+00 4.44e-01 1.53e+01\n",
      "  angle pdb=\" C3'  IC A   4 \"\n",
      "        pdb=\" O3'  IC A   4 \"\n",
      "        pdb=\" P     G A   5 \"\n",
      "      ideal   model   delta    sigma   weight residual\n",
      "     120.20  115.31    4.89 1.50e+00 4.44e-01 1.06e+01\n",
      "  angle pdb=\" O4'B  C C   3 \"\n",
      "        pdb=\" C4'B  C C   3 \"\n",
      "        pdb=\" C3'B  C C   3 \"\n",
      "      ideal   model   delta    sigma   weight residual\n",
      "     104.00  100.86    3.14 1.00e+00 1.00e+00 9.85e+00\n",
      "  angle pdb=\" O3'A IG C   7 \"\n",
      "        pdb=\" P  A  G C   8 \"\n",
      "        pdb=\" OP1A  G C   8 \"\n",
      "      ideal   model   delta    sigma   weight residual\n",
      "     108.00   98.71    9.29 3.00e+00 1.11e-01 9.60e+00\n",
      "  angle pdb=\" OP2   G D  15 \"\n",
      "        pdb=\" P     G D  15 \"\n",
      "        pdb=\" O5'   G D  15 \"\n",
      "      ideal   model   delta    sigma   weight residual\n",
      "     108.00   98.73    9.27 3.00e+00 1.11e-01 9.55e+00\n",
      "  ... (remaining 3346 not shown)\n",
      "\n",
      "  Histogram of dihedral angle deviations from ideal:\n",
      "        0.00 -    14.75: 608\n",
      "       14.75 -    29.50: 37\n",
      "       29.50 -    44.24: 33\n",
      "       44.24 -    58.99: 14\n",
      "       58.99 -    73.74: 9\n",
      "  Dihedral angle restraints: 701\n",
      "    sinusoidal: 701\n",
      "      harmonic: 0\n",
      "  Sorted by residual:\n",
      "  dihedral pdb=\" C3'  IG B  17 \"\n",
      "           pdb=\" C2'  IG B  17 \"\n",
      "           pdb=\" O2'  IG B  17 \"\n",
      "           pdb=\"HO2'  IG B  17 \"\n",
      "      ideal   model   delta sinusoidal    sigma   weight residual\n",
      "     -61.35 -135.09   73.74     1      2.00e+01 2.50e-03 1.73e+01\n",
      "  dihedral pdb=\" C3'B IG C   7 \"\n",
      "           pdb=\" C2'B IG C   7 \"\n",
      "           pdb=\" O2'B IG C   7 \"\n",
      "           pdb=\"HO2'B IG C   7 \"\n",
      "      ideal   model   delta sinusoidal    sigma   weight residual\n",
      "     -61.35 -133.22   71.87     1      2.00e+01 2.50e-03 1.65e+01\n",
      "  dihedral pdb=\" C3'A IC C   4 \"\n",
      "           pdb=\" C2'A IC C   4 \"\n",
      "           pdb=\" O2'A IC C   4 \"\n",
      "           pdb=\"HO2'A IC C   4 \"\n",
      "      ideal   model   delta sinusoidal    sigma   weight residual\n",
      "     -61.44 -128.22   66.77     1      2.00e+01 2.50e-03 1.45e+01\n",
      "  ... (remaining 698 not shown)\n",
      "\n",
      "  Histogram of chiral volume deviations from ideal:\n",
      "       0.001 -    0.069: 198\n",
      "       0.069 -    0.137: 44\n",
      "       0.137 -    0.205: 7\n",
      "       0.205 -    0.273: 3\n",
      "       0.273 -    0.342: 2\n",
      "  Chirality restraints: 254\n",
      "  Sorted by residual:\n",
      "  chirality pdb=\" P     G A   2 \"\n",
      "            pdb=\" OP1   G A   2 \"\n",
      "            pdb=\" OP2   G A   2 \"\n",
      "            pdb=\" O5'   G A   2 \"\n",
      "    both_signs  ideal   model   delta    sigma   weight residual\n",
      "      True       2.41   -2.07    0.34 2.00e-01 2.50e+01 2.92e+00\n",
      "  chirality pdb=\" P  B  C D  19 \"\n",
      "            pdb=\" OP1B  C D  19 \"\n",
      "            pdb=\" OP2B  C D  19 \"\n",
      "            pdb=\" O5'B  C D  19 \"\n",
      "    both_signs  ideal   model   delta    sigma   weight residual\n",
      "      True       2.41   -2.70   -0.29 2.00e-01 2.50e+01 2.03e+00\n",
      "  chirality pdb=\" P  B  G C   5 \"\n",
      "            pdb=\" OP1B  G C   5 \"\n",
      "            pdb=\" OP2B  G C   5 \"\n",
      "            pdb=\" O5'B  G C   5 \"\n",
      "    both_signs  ideal   model   delta    sigma   weight residual\n",
      "      True       2.41   -2.18    0.23 2.00e-01 2.50e+01 1.35e+00\n",
      "  ... (remaining 251 not shown)\n",
      "\n",
      "  Planarity restraints: 107\n",
      "  Sorted by residual:\n",
      "                                 delta    sigma   weight rms_deltas residual\n",
      "  plane pdb=\" C1'   G A   2 \"   -0.062 2.00e-02 2.50e+03   3.48e-02 4.24e+01\n",
      "        pdb=\" N9    G A   2 \"   -0.001 2.00e-02 2.50e+03\n",
      "        pdb=\" C8    G A   2 \"    0.028 2.00e-02 2.50e+03\n",
      "        pdb=\" N7    G A   2 \"   -0.022 2.00e-02 2.50e+03\n",
      "        pdb=\" C5    G A   2 \"   -0.001 2.00e-02 2.50e+03\n",
      "        pdb=\" C6    G A   2 \"   -0.032 2.00e-02 2.50e+03\n",
      "        pdb=\" O6    G A   2 \"   -0.038 2.00e-02 2.50e+03\n",
      "        pdb=\" N1    G A   2 \"    0.010 2.00e-02 2.50e+03\n",
      "        pdb=\" C2    G A   2 \"    0.027 2.00e-02 2.50e+03\n",
      "        pdb=\" N2    G A   2 \"    0.033 2.00e-02 2.50e+03\n",
      "        pdb=\" N3    G A   2 \"   -0.027 2.00e-02 2.50e+03\n",
      "        pdb=\" C4    G A   2 \"   -0.016 2.00e-02 2.50e+03\n",
      "        pdb=\" H8    G A   2 \"    0.076 2.00e-02 2.50e+03\n",
      "        pdb=\" H1    G A   2 \"    0.025 2.00e-02 2.50e+03\n",
      "                                 delta    sigma   weight rms_deltas residual\n",
      "  plane pdb=\" C1'B  G C   8 \"    0.038 2.00e-02 2.50e+03   3.30e-02 3.81e+01\n",
      "        pdb=\" N9 B  G C   8 \"    0.023 2.00e-02 2.50e+03\n",
      "        pdb=\" C8 B  G C   8 \"   -0.021 2.00e-02 2.50e+03\n",
      "        pdb=\" N7 B  G C   8 \"    0.005 2.00e-02 2.50e+03\n",
      "        pdb=\" C5 B  G C   8 \"    0.005 2.00e-02 2.50e+03\n",
      "        pdb=\" C6 B  G C   8 \"    0.019 2.00e-02 2.50e+03\n",
      "        pdb=\" O6 B  G C   8 \"    0.057 2.00e-02 2.50e+03\n",
      "        pdb=\" N1 B  G C   8 \"   -0.016 2.00e-02 2.50e+03\n",
      "        pdb=\" C2 B  G C   8 \"    0.013 2.00e-02 2.50e+03\n",
      "        pdb=\" N2 B  G C   8 \"   -0.009 2.00e-02 2.50e+03\n",
      "        pdb=\" N3 B  G C   8 \"   -0.013 2.00e-02 2.50e+03\n",
      "        pdb=\" C4 B  G C   8 \"    0.025 2.00e-02 2.50e+03\n",
      "        pdb=\" H8 B  G C   8 \"   -0.065 2.00e-02 2.50e+03\n",
      "        pdb=\" H1 B  G C   8 \"   -0.061 2.00e-02 2.50e+03\n",
      "                                 delta    sigma   weight rms_deltas residual\n",
      "  plane pdb=\" C1'  IC D  14 \"    0.040 2.00e-02 2.50e+03   3.21e-02 3.35e+01\n",
      "        pdb=\" C2   IC D  14 \"   -0.023 2.00e-02 2.50e+03\n",
      "        pdb=\" C4   IC D  14 \"   -0.006 2.00e-02 2.50e+03\n",
      "        pdb=\" C5   IC D  14 \"   -0.026 2.00e-02 2.50e+03\n",
      "        pdb=\" C6   IC D  14 \"    0.001 2.00e-02 2.50e+03\n",
      "        pdb=\" N1   IC D  14 \"   -0.010 2.00e-02 2.50e+03\n",
      "        pdb=\" N2   IC D  14 \"   -0.017 2.00e-02 2.50e+03\n",
      "        pdb=\" N3   IC D  14 \"    0.047 2.00e-02 2.50e+03\n",
      "        pdb=\" O4   IC D  14 \"    0.051 2.00e-02 2.50e+03\n",
      "        pdb=\" H21  IC D  14 \"   -0.018 2.00e-02 2.50e+03\n",
      "        pdb=\" H22  IC D  14 \"   -0.011 2.00e-02 2.50e+03\n",
      "        pdb=\" H5   IC D  14 \"   -0.061 2.00e-02 2.50e+03\n",
      "        pdb=\" H6   IC D  14 \"    0.034 2.00e-02 2.50e+03\n",
      "  ... (remaining 104 not shown)\n",
      "\n",
      "  Histogram of nonbonded interaction distances:\n",
      "        1.55 -     2.16: 171\n",
      "        2.16 -     2.77: 2362\n",
      "        2.77 -     3.38: 5294\n",
      "        3.38 -     3.99: 9208\n",
      "        3.99 -     4.60: 11978\n",
      "  Nonbonded interactions: 29013\n",
      "  Sorted by model distance:\n",
      "  nonbonded pdb=\" OP2A  C D  20 \"\n",
      "            pdb=\" O   HOH S  58 \"\n",
      "     model   vdw sym.op.\n",
      "     1.547 2.200 x+1/2,y-1/2,z\n",
      "  nonbonded pdb=\" O   HOH S  58 \"\n",
      "            pdb=\" OP2A  C D  20 \"\n",
      "     model   vdw sym.op.\n",
      "     1.547 2.200 x-1/2,y+1/2,z\n",
      "  nonbonded pdb=\" H42B  C C  10 \"\n",
      "            pdb=\" O6    G D  11 \"\n",
      "     model   vdw\n",
      "     1.607 1.850\n",
      "  nonbonded pdb=\" O   HOH S  91 \"\n",
      "            pdb=\" O   HOH S  96 \"\n",
      "     model   vdw\n",
      "     1.718 2.200\n",
      "  nonbonded pdb=\"HO2'   C D  13 \"\n",
      "            pdb=\" O2'A  C D  20 \"\n",
      "     model   vdw sym.op.\n",
      "     1.722 1.850 x-1/2,y+1/2,z\n",
      "  ... (remaining 29008 not shown)\n",
      "\n",
      "  NOTE: a complete listing of the restraints can be obtained by requesting\n",
      "        output of .geo file.\n",
      "\n",
      "================== TLS group selections from PDB file header ==================\n",
      "\n",
      "TLS group selections:\n",
      "  selection string:\n",
      "    (chain 'C' and resid 1 through 10)\n",
      "    selects 652 atoms\n",
      "  selection string:\n",
      "    (chain 'D' and resid 11 through 20)\n",
      "    selects 377 atoms\n",
      "  selection string:\n",
      "    (chain 'A' and resid 1 through 10)\n",
      "    selects 326 atoms\n",
      "  selection string:\n",
      "    (chain 'B' and resid 11 through 20)\n",
      "    selects 391 atoms\n",
      "\n",
      "======================== Summary of geometry restraints =======================\n",
      "\n",
      "\n",
      "====================== Modifying start model if requested =====================\n",
      "\n",
      "n_use            =  1850\n",
      "n_use_u_iso      =  705\n",
      "n_use_u_aniso    =  1145\n",
      "n_grad_site      =  0\n",
      "n_grad_u_iso     =  0\n",
      "n_grad_u_aniso   =  0\n",
      "n_grad_occupancy =  0\n",
      "n_grad_fp        =  0\n",
      "n_grad_fdp       =  0\n",
      "total number of scatterers =  1850\n",
      "\n",
      "================== Extract refinement strategy and selections =================\n",
      "\n",
      "Refinement flags and selection counts:\n",
      "  individual_sites       =  True (1850 atoms)\n",
      "  torsion_angles         = False (0 atoms)\n",
      "  rigid_body             = False (0 atoms in 0 groups)\n",
      "  individual_adp         =  True (iso = 705 aniso = 1145)\n",
      "  group_adp              = False (0 atoms in 0 groups)\n",
      "  tls                    = False (0 atoms in 0 groups)\n",
      "  occupancies            =  True (892 atoms)\n",
      "  group_anomalous        = False\n",
      "\n",
      "*******************************************************************************\n",
      "Automatic adjustment:\n",
      "  hydrogens.refine=riding\n",
      "*******************************************************************************\n",
      "\n",
      "\n",
      "==================== Process input NCS or/and find new NCS ====================\n",
      "\n",
      "Using existing and finding new NCS is disabled.\n",
      "Use ncs_search.enabled=true to activate it.\n",
      "Look at refinement.ncs for more NCS related parameters.\n",
      "\n",
      "=================== Write initial parameters into .eff file ===================\n",
      "\n",
      "Writing effective parameters to file:\n",
      "  C:\\Praca\\Uczelnia\\Praca naukowa\\Seminaria\\2019 Seminarium CBB - Reproducible research\\repo\\ISO2-1_6A_refine_96_refine_001.eff\n",
      "\n",
      "Writing geometry restraints to file:\n",
      "  C:\\Praca\\Uczelnia\\Praca naukowa\\Seminaria\\2019 Seminarium CBB - Reproducible research\\repo\\ISO2-1_6A_refine_96_refine_001.geo\n",
      "CPU time processing inputs: 5.25\n",
      "\n",
      "\n",
      "============================ Non-default parameters ===========================\n",
      "\n",
      "A complete record of all parameters was written to the .eff file above.\n",
      "Below are only the non-defaults.\n",
      "\n",
      "#phil __ON__\n",
      "refinement {\n",
      "  crystal_symmetry {\n",
      "    unit_cell = 42.25099945 38.80199814 84.18000031 90 93.47899628 90\n",
      "    space_group = \"C 1 2 1\"\n",
      "  }\n",
      "  input {\n",
      "    pdb {\n",
      "      file_name = \"data/ISO2-1_6A_refine_96.pdb\"\n",
      "    }\n",
      "    xray_data {\n",
      "      file_name = \"data/ISO2-1_6A_refine_96.mtz\"\n",
      "      labels = \"I-obs,SIGI-obs\"\n",
      "      r_free_flags {\n",
      "        file_name = \"data/ISO2-1_6A_refine_96.mtz\"\n",
      "        label = \"R-free-flags\"\n",
      "        test_flag_value = 0\n",
      "      }\n",
      "    }\n",
      "    monomers {\n",
      "      file_name = \"C:\\\\Praca\\\\Uczelnia\\\\Praca naukowa\\\\Seminaria\\\\2019 Seminarium CBB - Reproducible research\\\\repo\\\\data\\\\IC-IG-QM-paired-lib.cif\"\n",
      "    }\n",
      "  }\n",
      "  output {\n",
      "    prefix = \"ISO2-1_6A_refine_96_refine\"\n",
      "    serial = 1\n",
      "  }\n",
      "  electron_density_maps {\n",
      "    map_coefficients {\n",
      "      map_type = \"2mFo-DFc\"\n",
      "      mtz_label_amplitudes = \"2FOFCWT\"\n",
      "      mtz_label_phases = \"PH2FOFCWT\"\n",
      "      fill_missing_f_obs = True\n",
      "    }\n",
      "    map_coefficients {\n",
      "      map_type = \"2mFo-DFc\"\n",
      "      mtz_label_amplitudes = \"2FOFCWT_no_fill\"\n",
      "      mtz_label_phases = \"PH2FOFCWT_no_fill\"\n",
      "    }\n",
      "    map_coefficients {\n",
      "      map_type = \"mFo-DFc\"\n",
      "      mtz_label_amplitudes = \"FOFCWT\"\n",
      "      mtz_label_phases = \"PHFOFCWT\"\n",
      "    }\n",
      "    map_coefficients {\n",
      "      map_type = \"anomalous\"\n",
      "      mtz_label_amplitudes = \"ANOM\"\n",
      "      mtz_label_phases = \"PANOM\"\n",
      "    }\n",
      "    map {\n",
      "      map_type = \"2mFo-DFc\"\n",
      "      fill_missing_f_obs = True\n",
      "    }\n",
      "    map {\n",
      "      map_type = \"2mFo-DFc\"\n",
      "    }\n",
      "    map {\n",
      "      map_type = \"mFo-DFc\"\n",
      "    }\n",
      "  }\n",
      "  refine {\n",
      "    adp {\n",
      "      tls = (chain 'C' and resid 1 through 10)\n",
      "      tls = (chain 'D' and resid 11 through 20)\n",
      "      tls = (chain 'A' and resid 1 through 10)\n",
      "      tls = (chain 'B' and resid 11 through 20)\n",
      "    }\n",
      "  }\n",
      "  main {\n",
      "    number_of_macro_cycles = 0\n",
      "    random_seed = 7\n",
      "    nproc = Auto\n",
      "  }\n",
      "  hydrogens {\n",
      "    refine = individual *riding Auto\n",
      "  }\n",
      "}\n",
      "#phil __OFF__\n",
      "\n",
      "\n",
      "=============================== refinement start ==============================\n",
      "\n",
      "\n",
      "================================== Hydrogens ==================================\n",
      "\n",
      "Total:\n",
      "  count: 601\n",
      "  occupancy sum: 448.00 (% of total atoms  31.91)\n",
      "Rotatable:\n",
      "  count: 65\n",
      "  occupancy sum:  48.00 (% of total atoms   3.42)\n",
      "\n",
      "   ----------structure factors based statistics (before refinement)----------  \n",
      "\n",
      "\n",
      "                         ----------X-ray data----------                        \n",
      "\n",
      "|--(resolution: 1.60 - 28.55 A, n_refl.=17941 (all), 5.57  % free)------------|\n",
      "|                                                                             |\n",
      "| r_work= 0.4178 r_free= 0.7112 coordinate error (max.-lik. estimate): 0.13 A |\n",
      "|                                                                             |\n",
      "| normalized target function (ml) (work): 3.294322                            |\n",
      "| target function (ml) not normalized (work): 55809.113519                    |\n",
      "| target function (ml) not normalized (free): 3323.845711                     |\n",
      "|-----------------------------------------------------------------------------|\n",
      "\n",
      "|-----------------------------------------------------------------------------|\n",
      "| Bin     Resolution   Compl.  No. Refl.    R-factors          Targets        |\n",
      "|number     range              work test   work   test        work        test|\n",
      "|  1: 28.5592 -  3.0604 0.99   2507  148 0.4098 0.7110      5.2382      5.2373|\n",
      "|  2:  3.0604 -  2.4296 0.99   2423  143 0.4099 0.6927      4.5863      4.6338|\n",
      "|  3:  2.4296 -  2.1226 0.99   2437  144 0.4173 0.7121      3.2801      3.2735|\n",
      "|  4:  2.1226 -  1.9285 0.99   2394  141 0.4483 0.7244      2.9638      3.0351|\n",
      "|  5:  1.9285 -  1.7903 0.99   2393  142 0.4580 0.7317      2.6524      2.6289|\n",
      "|  6:  1.7903 -  1.6848 0.99   2400  141 0.4410 0.7442      2.2914      2.4308|\n",
      "|  7:  1.6848 -  1.6004 0.98   2387  141 0.4496 0.7192      1.9391        1.92|\n",
      "|-----------------------------------------------------------------------------|\n",
      "\n",
      "|-----------------------------------------------------------------------------|\n",
      "|R-free likelihood based estimates for figures of merit, absolute phase error,|\n",
      "|and distribution parameters alpha and beta (Acta Cryst. (1995). A51, 880-887)|\n",
      "|                                                                             |\n",
      "| Bin     Resolution      No. Refl.   FOM  Phase Scale    Alpha        Beta   |\n",
      "|  #        range        work  test        error factor                       |\n",
      "|  1: 28.5592 -  3.0604  2507   148  0.22  73.16   0.95     0.08       8580.15|\n",
      "|  2:  3.0604 -  2.4296  2423   143  0.21  74.04   1.55     0.21       2988.28|\n",
      "|  3:  2.4296 -  2.1226  2437   144  0.68  37.54   1.49     0.29        148.30|\n",
      "|  4:  2.1226 -  1.9285  2394   141  0.66  39.13   1.51     0.29         66.93|\n",
      "|  5:  1.9285 -  1.7903  2393   142  0.66  39.59   1.53     0.31         36.86|\n",
      "|  6:  1.7903 -  1.6848  2400   141  0.67  38.88   1.51     0.30         19.80|\n",
      "|  7:  1.6848 -  1.6004  2387   141  0.69  37.06   1.58     0.27          9.03|\n",
      "|alpha:            min =        0.08 max =            0.31 mean =         0.25|\n",
      "|beta:             min =        9.03 max =         8580.15 mean =      1737.20|\n",
      "|figures of merit: min =        0.00 max =            1.00 mean =         0.54|\n",
      "|phase err.(work): min =        0.00 max =           89.99 mean =        48.67|\n",
      "|phase err.(test): min =        0.00 max =           89.95 mean =        48.96|\n",
      "|-----------------------------------------------------------------------------|\n",
      "\n",
      "        ----------Initial model statistics (before refinement)----------       \n",
      "\n",
      "\n",
      "                min    max   mean <Bi,j>   iso aniso\n",
      "   Overall:   17.99 137.63  42.48   6.20  1249     0\n",
      "   RNA/DNA:   17.99 137.63  41.37   6.34   910     0\n",
      "   Water:     26.74 100.33  44.57    N/A   104     0\n",
      "   Other:     20.62 106.68  45.84    N/A   235     0\n",
      "   Chain  A:  25.33 137.63  63.05    N/A   214     0\n",
      "   Chain  C:  17.99  49.13  26.56    N/A   428     0\n",
      "   Chain  B:  27.87 129.12  64.47    N/A   257     0\n",
      "   Chain  S:  26.74 100.33  44.57    N/A   104     0\n",
      "   Chain  D:  22.13  59.49  28.41    N/A   246     0\n",
      "   Histogram:\n",
      "       Values      Number of atoms\n",
      "    17.99 - 29.95       535\n",
      "    29.95 - 41.92       249\n",
      "    41.92 - 53.88       116\n",
      "    53.88 - 65.84       111\n",
      "    65.84 - 77.81       141\n",
      "    77.81 - 89.77        62\n",
      "    89.77 - 101.74       23\n",
      "   101.74 - 113.70        7\n",
      "   113.70 - 125.67        2\n",
      "   125.67 - 137.63        3\n",
      "\n",
      "|-Occupancies statistics------------------------------------------------------|\n",
      "| occupancies: max = 1.00   min = 0.24   number of occupancies < 0.1 = 0      |\n",
      "|-----------------------------------------------------------------------------|\n",
      "\n",
      "                         ----------X-ray data----------                        \n",
      "\n",
      "|--(resolution: 1.60 - 28.55 A, n_refl.=17941 (all), 5.57  % free)------------|\n",
      "|                                                                             |\n",
      "| r_work= 0.4178 r_free= 0.7112 coordinate error (max.-lik. estimate): 0.13 A |\n",
      "|                                                                             |\n",
      "| normalized target function (ml) (work): 3.294322                            |\n",
      "| target function (ml) not normalized (work): 55809.113519                    |\n",
      "| target function (ml) not normalized (free): 3323.845711                     |\n",
      "|-----------------------------------------------------------------------------|\n",
      "\n",
      "|-----------------------------------------------------------------------------|\n",
      "| Bin     Resolution   Compl.  No. Refl.    R-factors          Targets        |\n",
      "|number     range              work test   work   test        work        test|\n",
      "|  1: 28.5592 -  3.0604 0.99   2507  148 0.4098 0.7110      5.2382      5.2373|\n",
      "|  2:  3.0604 -  2.4296 0.99   2423  143 0.4099 0.6927      4.5863      4.6338|\n",
      "|  3:  2.4296 -  2.1226 0.99   2437  144 0.4173 0.7121      3.2801      3.2735|\n",
      "|  4:  2.1226 -  1.9285 0.99   2394  141 0.4483 0.7244      2.9638      3.0351|\n",
      "|  5:  1.9285 -  1.7903 0.99   2393  142 0.4580 0.7317      2.6524      2.6289|\n",
      "|  6:  1.7903 -  1.6848 0.99   2400  141 0.4410 0.7442      2.2914      2.4308|\n",
      "|  7:  1.6848 -  1.6004 0.98   2387  141 0.4496 0.7192      1.9391        1.92|\n",
      "|-----------------------------------------------------------------------------|\n",
      "\n",
      "|-----------------------------------------------------------------------------|\n",
      "|R-free likelihood based estimates for figures of merit, absolute phase error,|\n",
      "|and distribution parameters alpha and beta (Acta Cryst. (1995). A51, 880-887)|\n",
      "|                                                                             |\n",
      "| Bin     Resolution      No. Refl.   FOM  Phase Scale    Alpha        Beta   |\n",
      "|  #        range        work  test        error factor                       |\n",
      "|  1: 28.5592 -  3.0604  2507   148  0.22  73.16   0.95     0.08       8580.15|\n",
      "|  2:  3.0604 -  2.4296  2423   143  0.21  74.04   1.55     0.21       2988.28|\n",
      "|  3:  2.4296 -  2.1226  2437   144  0.68  37.54   1.49     0.29        148.30|\n",
      "|  4:  2.1226 -  1.9285  2394   141  0.66  39.13   1.51     0.29         66.93|\n",
      "|  5:  1.9285 -  1.7903  2393   142  0.66  39.59   1.53     0.31         36.86|\n",
      "|  6:  1.7903 -  1.6848  2400   141  0.67  38.88   1.51     0.30         19.80|\n",
      "|  7:  1.6848 -  1.6004  2387   141  0.69  37.06   1.58     0.27          9.03|\n",
      "|alpha:            min =        0.08 max =            0.31 mean =         0.25|\n",
      "|beta:             min =        9.03 max =         8580.15 mean =      1737.20|\n",
      "|figures of merit: min =        0.00 max =            1.00 mean =         0.54|\n",
      "|phase err.(work): min =        0.00 max =           89.99 mean =        48.67|\n",
      "|phase err.(test): min =        0.00 max =           89.95 mean =        48.96|\n",
      "|-----------------------------------------------------------------------------|\n",
      "\n",
      "==================================== Final ====================================\n",
      "\n",
      "\n",
      "============================= updating all scales =============================\n",
      "\n",
      "                   start: r(all,work,free)=0.4505 0.4178 0.7112 n_refl.: 17941\n",
      "       re-set all scales: r(all,work,free)=0.4505 0.4178 0.7112 n_refl.: 17941\n",
      "         remove outliers: r(all,work,free)=0.4611 0.4280 0.7112 n_refl.: 17894\n",
      " overall B=0.00 to atoms: r(all,work,free)=0.4611 0.4280 0.7112 n_refl.: 17894\n",
      "bulk-solvent and scaling: r(all,work,free)=0.2014 0.1989 0.2470 n_refl.: 17894\n",
      "         remove outliers: r(all,work,free)=0.2014 0.1989 0.2470 n_refl.: 17894\n",
      "\n",
      "======================== Statistics in resolution bins ======================== \n",
      "\n",
      "Total model structure factor:\n",
      "  F_model = k_total * (F_calc + k_mask * F_mask)\n",
      "\n",
      "    k_total = k_isotropic * k_anisotropic\n",
      "   Resolution    Compl Nwork Nfree R_work    <Fobs>  <Fmodel> kiso   kani kmask\n",
      " 28.555-9.352   100.00    94     6 0.1561   144.260   137.119 0.803 0.995 0.328\n",
      "  9.349-7.384   100.00    94     6 0.1095    96.244    94.867 0.841 0.991 0.297\n",
      "  7.375-5.820   100.00   192    11 0.1431    75.960    74.160 0.902 0.983 0.276\n",
      "  5.799-4.591    97.34   381    22 0.1459    91.651    89.311 1.017 0.977 0.270\n",
      "  4.589-3.621    98.88   751    45 0.1623    89.915    86.882 1.161 0.963 0.220\n",
      "  3.619-2.856    98.11  1517    91 0.2013    56.649    54.946 1.170 0.945 0.040\n",
      "  2.855-2.253    99.31  3117   184 0.2196    23.593    22.416 1.046 0.929 0.010\n",
      "  2.252-1.777    99.06  6280   370 0.2339    10.554     9.781 1.065 0.917 0.010\n",
      "  1.777-1.600    97.87  4470   263 0.3080     5.190     4.328 0.995 0.915 0.010\n",
      "\n",
      "  Approximation of k_total with k_overall*exp(-b_overall*s**2/4)\n",
      "    k_overall=1.1000   b_overall=3.5320  \n",
      "\n",
      "================= overall refinement statistics: step by step =================\n",
      "\n",
      "****************** REFINEMENT STATISTICS STEP BY STEP ******************\n",
      "leading digit, like 1_, means number of macro-cycle                     \n",
      "0    : statistics at the very beginning when nothing is done yet        \n",
      "1_bss: bulk solvent correction and/or (anisotropic) scaling             \n",
      "1_xyz: refinement of coordinates                                        \n",
      "1_adp: refinement of ADPs (Atomic Displacement Parameters)              \n",
      "1_occ: refinement of occupancies                                        \n",
      "------------------------------------------------------------------------\n",
      " stage       r-work r-free bonds angles b_min b_max b_ave n_water shift\n",
      "0    : 0.4178 0.7112 0.009  1.79  18.0 137.6  42.5 104      0.000\n",
      "  end: 0.1989 0.2470 0.009  1.79  18.0 137.6  42.5 104      0.000\n",
      "------------------------------------------------------------------------\n",
      "\n",
      "CPU time actual refinement: 18.38\n",
      "\n",
      "\n",
      "============================== Exporting results ==============================\n",
      "\n",
      "Writing refined structure to PDB file:\n",
      "  C:\\Praca\\Uczelnia\\Praca naukowa\\Seminaria\\2019 Seminarium CBB - Reproducible research\\repo\\ISO2-1_6A_refine_96_refine_001.pdb\n",
      "n_use            =  1850\n",
      "n_use_u_iso      =  1850\n",
      "n_use_u_aniso    =  0\n",
      "n_grad_site      =  0\n",
      "n_grad_u_iso     =  0\n",
      "n_grad_u_aniso   =  0\n",
      "n_grad_occupancy =  0\n",
      "n_grad_fp        =  0\n",
      "n_grad_fdp       =  0\n",
      "total number of scatterers =  1850\n",
      "\n",
      "Writing default parameters for subsequent refinement:\n",
      "  C:\\Praca\\Uczelnia\\Praca naukowa\\Seminaria\\2019 Seminarium CBB - Reproducible research\\repo\\ISO2-1_6A_refine_96_refine_002.def\n",
      "\n",
      "\n",
      "=============================== Detailed timings ==============================\n",
      "\n",
      "  Micro-tasks:\n",
      "    mask                            = 0.00   \n",
      "    f_calc                          = 0.00   \n",
      "    alpha_beta                      = 0.02   \n",
      "    target                          = 0.00   \n",
      "    gradients_wrt_atomic_parameters = 0.00   \n",
      "    fmodel                         = 0.00   \n",
      "    r_factors                      = 0.02   \n",
      "    phase_errors                   = 0.23   \n",
      "    foms                           = 0.00   \n",
      "    TOTAL for micro-tasks          = 0.27   \n",
      "NUMBER OF MASK CALCS=  0\n",
      "Total CPU time: 35.48 seconds\n",
      "from_scatterers_fft:    7 calls, 0.22 s\n",
      "\n",
      "=========================== phenix.refine: finished ===========================\n",
      "\n",
      "# Date 2019-06-07 Time 09:48:36 Środkowoeuropejski czas letni +0200 (1559893716.47 s)\n",
      "wall clock time: 36.97 s\n",
      "\n",
      "Start R-work = 0.4178, R-free = 0.7112\n",
      "Final R-work = 0.1989, R-free = 0.2470\n"
     ]
    }
   ],
   "source": [
    "PHENIX_BIN = \"C:/Tools/Crystallography/Phenix/phenix-installer-1.14-3260-intel-windows-x86_64/build/bin/\"\n",
    "PDB = \"data/ISO2-1_6A_refine_96.pdb\"\n",
    "MTZ = \"data/ISO2-1_6A_refine_96.mtz\"\n",
    "CIF = \"data/IC-IG-QM-paired-lib.cif\"\n",
    "OPTIONS = \"main.random_seed=7 main.number_of_macro_cycles=0\"\n",
    "\n",
    "cmd = \"{0}phenix.refine {1} {2} {3} {4}\".format(PHENIX_BIN, MTZ, PDB, CIF, OPTIONS)\n",
    "!{cmd}"
   ]
  },
  {
   "cell_type": "markdown",
   "metadata": {
    "slideshow": {
     "slide_type": "slide"
    }
   },
   "source": [
    "Rysunki i wizualizacje\n",
    "==================\n",
    "\n",
    "Notatniki pozwalają w łatwy sposób pokazać jak uzyskano daną wizualizację. Jest to sposób na udowodnienie, że wykresy są oparte na danych eksperymentalnych i nie były w żaden sposób ręcznie modyfikowane."
   ]
  },
  {
   "cell_type": "code",
   "execution_count": 3,
   "metadata": {
    "scrolled": true,
    "slideshow": {
     "slide_type": "slide"
    }
   },
   "outputs": [
    {
     "data": {
      "application/vnd.jupyter.widget-view+json": {
       "model_id": "ad8d13ec5aa44105a7209a6f2d5be025",
       "version_major": 2,
       "version_minor": 0
      },
      "text/plain": [
       "NGLWidget()"
      ]
     },
     "metadata": {},
     "output_type": "display_data"
    }
   ],
   "source": [
    "import nglview as nv\n",
    "w = nv.show_pdbid(\"3pqr\")\n",
    "w"
   ]
  },
  {
   "cell_type": "markdown",
   "metadata": {
    "slideshow": {
     "slide_type": "slide"
    }
   },
   "source": [
    "Odpytywanie baz danych\n",
    "======================\n",
    "\n",
    "W notatniku można pokazać jak działając na danych bezpośrednio z bazy (np. CSD albo PDB) uzyskano wyniki przedstawiane w pracy naukowej."
   ]
  },
  {
   "cell_type": "code",
   "execution_count": 4,
   "metadata": {
    "scrolled": true,
    "slideshow": {
     "slide_type": "-"
    }
   },
   "outputs": [
    {
     "name": "stdout",
     "output_type": "stream",
     "text": [
      "AABHTZ\n"
     ]
    }
   ],
   "source": [
    "%matplotlib inline \n",
    "from ccdc import io\n",
    "from ccdc.diagram import DiagramGenerator\n",
    "from ccdc.search import TextNumericSearch, SubstructureSearch, ConnserSubstructure\n",
    "\n",
    "csd_reader = io.EntryReader('CSD') # można podać własną (pod)bazę CSD\n",
    "first_entry = csd_reader[0]\n",
    "\n",
    "# pierwszy wpis w bazie CSD\n",
    "print(first_entry.identifier)"
   ]
  },
  {
   "cell_type": "markdown",
   "metadata": {
    "slideshow": {
     "slide_type": "slide"
    }
   },
   "source": [
    "Odpytywanie baz danych (diagramy)\n",
    "==============================\n",
    "\n",
    "Znalezioną strukturę można zwizualizować..."
   ]
  },
  {
   "cell_type": "code",
   "execution_count": 5,
   "metadata": {
    "slideshow": {
     "slide_type": "-"
    }
   },
   "outputs": [
    {
     "data": {
      "image/png": "[encoded data removed]",
      "text/plain": [
       "<PIL.Image.Image image mode=RGBA size=350x350 at 0x74CDC50>"
      ]
     },
     "execution_count": 5,
     "metadata": {},
     "output_type": "execute_result"
    }
   ],
   "source": [
    "diagram_generator = DiagramGenerator()\n",
    "img = diagram_generator.image(first_entry)\n",
    "img"
   ]
  },
  {
   "cell_type": "markdown",
   "metadata": {
    "slideshow": {
     "slide_type": "slide"
    }
   },
   "source": [
    "Odpytywanie baz danych (przeszukiwanie tekstowe)\n",
    "===========================================\n",
    "\n",
    "CSD można oczywiście przeszukiwać tekstowo (również po synonimach)..."
   ]
  },
  {
   "cell_type": "code",
   "execution_count": 6,
   "metadata": {
    "slideshow": {
     "slide_type": "-"
    }
   },
   "outputs": [
    {
     "name": "stdout",
     "output_type": "stream",
     "text": [
      "['ACMEBZ', 'ACSALA', 'ACSALA01', 'ACSALA02', 'ACSALA03', 'ACSALA04', 'ACSALA05', 'ACSALA06', 'ACSALA07', 'ACSALA08', 'ACSALA09', 'ACSALA10', 'ACSALA11', 'ACSALA12', 'ACSALA13', 'ACSALA14', 'ACSALA15', 'ACSALA16', 'ACSALA17', 'ACSALA18', 'ACSALA19', 'ACSALA20', 'ACSALA21', 'ACSALA22', 'ACSALA23', 'ACSALA24', 'ACSALA25', 'ARIFOX', 'ASPRIN', 'BEHWOA', 'CUASPR', 'CUASPR01', 'CUASPR02', 'DIFHOP', 'DIFQAK', 'DISXOU', 'ECONOA', 'EYOMEL', 'EYOMIP', 'EYOMOV', 'EYOMUB', 'EYONAI', 'HUNJEH', 'HUPPOX', 'HUPPOX01', 'IBOBUY', 'IBOBUY01', 'IBOCEJ', 'IBOCEJ01', 'IBOCOT', 'IBOCOT01', 'JIRNEE', 'KEWNOQ', 'KEWNOQ01', 'KICVUP', 'LAJVUO01', 'NINFUN', 'NUKXOH', 'NUWTIJ01', 'NUWTOP01', 'NUWTOP02', 'OKEZUZ', 'PETZAQ', 'PETZIY', 'PETZOE', 'PETZUK', 'PIKYOA', 'PIKYUG', 'PIKZAN', 'SIBYUA', 'SIBYUA01', 'TAZRAO', 'TORQUM02', 'UTUCIW', 'VUGMIT', 'XOJMOZ', 'YIRPEW', 'YOSMOI', 'DIPJAQ', 'TAZRAO01', 'TAZRAO02', 'ACMEBZ', 'ACSALA', 'ACSALA01', 'ACSALA02', 'ACSALA03', 'ACSALA04', 'ACSALA05', 'ACSALA06', 'ACSALA07', 'ACSALA08', 'ACSALA09', 'ACSALA10', 'ACSALA11', 'ACSALA12', 'ACSALA13', 'ACSALA14', 'ACSALA15', 'ACSALA16', 'ACSALA17', 'ACSALA18', 'ACSALA19', 'ACSALA20', 'ACSALA21', 'ACSALA22', 'ACSALA23', 'ACSALA24', 'ACSALA25', 'ARIFOX', 'BEHWOA', 'DIFHOP', 'DIFQAK', 'DISXOU', 'EYOMEL', 'EYOMIP', 'EYOMOV', 'EYOMUB', 'EYONAI', 'HUNJEH', 'HUPPOX', 'HUPPOX01', 'IBOBUY', 'IBOBUY01', 'IBOCEJ', 'IBOCEJ01', 'IBOCOT', 'IBOCOT01', 'JIRNEE', 'KEWNOQ', 'KEWNOQ01', 'LAJVUO01', 'NINFUN', 'NUKXOH', 'NUWTIJ01', 'NUWTOP01', 'NUWTOP02', 'PIKYOA', 'PIKYUG', 'PIKZAN', 'SIBYUA', 'SIBYUA01', 'TORQUM02', 'UTUCIW', 'VUGMIT', 'XOJMOZ', 'YIRPEW', 'YOSMOI', 'DIPJAQ', 'TAZRAO01', 'TAZRAO02']\n"
     ]
    }
   ],
   "source": [
    "text_numeric_search = TextNumericSearch()\n",
    "\n",
    "text_numeric_search.add_compound_name('aspirin')\n",
    "identifiers = [h.identifier for h in text_numeric_search.search()]\n",
    "\n",
    "text_numeric_search.clear()\n",
    "text_numeric_search.add_synonym('aspirin')\n",
    "identifiers.extend([h.identifier for h in text_numeric_search.search()])\n",
    "\n",
    "print(identifiers)"
   ]
  },
  {
   "cell_type": "markdown",
   "metadata": {
    "slideshow": {
     "slide_type": "slide"
    }
   },
   "source": [
    "Odpytywanie baz danych (przeszukiwanie tekstowe)\n",
    "================================================"
   ]
  },
  {
   "cell_type": "code",
   "execution_count": 7,
   "metadata": {
    "slideshow": {
     "slide_type": "-"
    }
   },
   "outputs": [
    {
     "data": {
      "image/png": "[encoded data removed]",
      "text/plain": [
       "<PIL.Image.Image image mode=RGBA size=350x350 at 0x15B68B70>"
      ]
     },
     "execution_count": 7,
     "metadata": {},
     "output_type": "execute_result"
    }
   ],
   "source": [
    "aspiryna = csd_reader.entry('ACMEBZ')\n",
    "img = diagram_generator.image(aspiryna)\n",
    "img"
   ]
  },
  {
   "cell_type": "markdown",
   "metadata": {
    "slideshow": {
     "slide_type": "slide"
    }
   },
   "source": [
    "Odpytywanie baz danych (zapytania graficzne)\n",
    "======================================\n",
    "\n",
    "Można również zadawać zapytania dotyczące geometrii cząsteczek. W tym celu najłatwiej \"wyklikać\" zapytanie w programie CONQUEST. Przykład zapytania poniżej:\n",
    "\n",
    "<img src=\"images/adenina.png\" alt=\"adenina\" style=\"width: 300px\"/>"
   ]
  },
  {
   "cell_type": "markdown",
   "metadata": {
    "slideshow": {
     "slide_type": "slide"
    }
   },
   "source": [
    "Odpytywanie baz danych (zapytania graficzne)\n",
    "======================================"
   ]
  },
  {
   "cell_type": "code",
   "execution_count": 9,
   "metadata": {
    "slideshow": {
     "slide_type": "-"
    }
   },
   "outputs": [
    {
     "name": "stdout",
     "output_type": "stream",
     "text": [
      "Znaleziono 437 struktur pasujących do zapytania\n"
     ]
    }
   ],
   "source": [
    "con_substructure = ConnserSubstructure(\"data/adenine.con\")\n",
    "substructure_search = SubstructureSearch()\n",
    "substructure_search.add_substructure(con_substructure)\n",
    "hits = substructure_search.search()\n",
    "\n",
    "print(\"Znaleziono {0} struktur pasujących do zapytania\".format(hits.__len__()))"
   ]
  },
  {
   "cell_type": "markdown",
   "metadata": {
    "slideshow": {
     "slide_type": "slide"
    }
   },
   "source": [
    "Odpytywanie baz danych (analiza wyników)\n",
    "======================================"
   ]
  },
  {
   "cell_type": "code",
   "execution_count": 10,
   "metadata": {
    "slideshow": {
     "slide_type": "-"
    }
   },
   "outputs": [
    {
     "data": {
      "text/html": [
       "<div>\n",
       "<style scoped>\n",
       "    .dataframe tbody tr th:only-of-type {\n",
       "        vertical-align: middle;\n",
       "    }\n",
       "\n",
       "    .dataframe tbody tr th {\n",
       "        vertical-align: top;\n",
       "    }\n",
       "\n",
       "    .dataframe thead th {\n",
       "        text-align: right;\n",
       "    }\n",
       "</style>\n",
       "<table border=\"1\" class=\"dataframe\">\n",
       "  <thead>\n",
       "    <tr style=\"text-align: right;\">\n",
       "      <th></th>\n",
       "      <th>C2N3C4</th>\n",
       "      <th>C2_N3</th>\n",
       "      <th>C4C5C6</th>\n",
       "      <th>C4C5N7</th>\n",
       "      <th>C4N9C</th>\n",
       "      <th>C4N9C8</th>\n",
       "      <th>C4_C5</th>\n",
       "      <th>C4_N9</th>\n",
       "      <th>C5C4N9</th>\n",
       "      <th>C5C6NH</th>\n",
       "      <th>...</th>\n",
       "      <th>N1C6C5</th>\n",
       "      <th>N1C6NH</th>\n",
       "      <th>N1_C2</th>\n",
       "      <th>N1_C6</th>\n",
       "      <th>N3C4C5</th>\n",
       "      <th>N3C4N9</th>\n",
       "      <th>N3_C4</th>\n",
       "      <th>N7C8N9</th>\n",
       "      <th>N7_C8</th>\n",
       "      <th>N9_C</th>\n",
       "    </tr>\n",
       "  </thead>\n",
       "  <tbody>\n",
       "    <tr>\n",
       "      <th>ACADOS_0</th>\n",
       "      <td>111.432</td>\n",
       "      <td>1.33764</td>\n",
       "      <td>117.108</td>\n",
       "      <td>110.659</td>\n",
       "      <td>127.614</td>\n",
       "      <td>106.632</td>\n",
       "      <td>1.37783</td>\n",
       "      <td>1.38011</td>\n",
       "      <td>105.505</td>\n",
       "      <td>123.811</td>\n",
       "      <td>...</td>\n",
       "      <td>117.658</td>\n",
       "      <td>118.529</td>\n",
       "      <td>1.33326</td>\n",
       "      <td>1.33908</td>\n",
       "      <td>126.186</td>\n",
       "      <td>128.307</td>\n",
       "      <td>1.33800</td>\n",
       "      <td>113.531</td>\n",
       "      <td>1.31459</td>\n",
       "      <td>1.45412</td>\n",
       "    </tr>\n",
       "    <tr>\n",
       "      <th>ACEQEH_1</th>\n",
       "      <td>110.230</td>\n",
       "      <td>1.33271</td>\n",
       "      <td>116.578</td>\n",
       "      <td>110.532</td>\n",
       "      <td>126.120</td>\n",
       "      <td>105.864</td>\n",
       "      <td>1.38725</td>\n",
       "      <td>1.37649</td>\n",
       "      <td>106.007</td>\n",
       "      <td>123.803</td>\n",
       "      <td>...</td>\n",
       "      <td>117.605</td>\n",
       "      <td>118.560</td>\n",
       "      <td>1.34385</td>\n",
       "      <td>1.35896</td>\n",
       "      <td>127.428</td>\n",
       "      <td>126.564</td>\n",
       "      <td>1.35059</td>\n",
       "      <td>114.096</td>\n",
       "      <td>1.31957</td>\n",
       "      <td>1.46248</td>\n",
       "    </tr>\n",
       "    <tr>\n",
       "      <th>ACOQIS_2</th>\n",
       "      <td>108.961</td>\n",
       "      <td>1.33352</td>\n",
       "      <td>118.557</td>\n",
       "      <td>110.027</td>\n",
       "      <td>126.771</td>\n",
       "      <td>103.814</td>\n",
       "      <td>1.38600</td>\n",
       "      <td>1.38020</td>\n",
       "      <td>107.045</td>\n",
       "      <td>124.965</td>\n",
       "      <td>...</td>\n",
       "      <td>116.701</td>\n",
       "      <td>118.326</td>\n",
       "      <td>1.32801</td>\n",
       "      <td>1.35923</td>\n",
       "      <td>126.123</td>\n",
       "      <td>126.778</td>\n",
       "      <td>1.35514</td>\n",
       "      <td>116.067</td>\n",
       "      <td>1.30980</td>\n",
       "      <td>1.45834</td>\n",
       "    </tr>\n",
       "    <tr>\n",
       "      <th>ACUHUB_3</th>\n",
       "      <td>110.659</td>\n",
       "      <td>1.32858</td>\n",
       "      <td>117.117</td>\n",
       "      <td>110.835</td>\n",
       "      <td>126.903</td>\n",
       "      <td>105.837</td>\n",
       "      <td>1.38369</td>\n",
       "      <td>1.36764</td>\n",
       "      <td>105.886</td>\n",
       "      <td>123.672</td>\n",
       "      <td>...</td>\n",
       "      <td>117.943</td>\n",
       "      <td>118.383</td>\n",
       "      <td>1.34519</td>\n",
       "      <td>1.36154</td>\n",
       "      <td>126.636</td>\n",
       "      <td>127.476</td>\n",
       "      <td>1.35036</td>\n",
       "      <td>113.886</td>\n",
       "      <td>1.31008</td>\n",
       "      <td>1.45013</td>\n",
       "    </tr>\n",
       "    <tr>\n",
       "      <th>ADBURM_4</th>\n",
       "      <td>113.465</td>\n",
       "      <td>1.31135</td>\n",
       "      <td>116.657</td>\n",
       "      <td>109.038</td>\n",
       "      <td>126.722</td>\n",
       "      <td>105.755</td>\n",
       "      <td>1.36964</td>\n",
       "      <td>1.33902</td>\n",
       "      <td>107.258</td>\n",
       "      <td>121.909</td>\n",
       "      <td>...</td>\n",
       "      <td>120.398</td>\n",
       "      <td>117.626</td>\n",
       "      <td>1.34310</td>\n",
       "      <td>1.30052</td>\n",
       "      <td>123.753</td>\n",
       "      <td>128.885</td>\n",
       "      <td>1.35823</td>\n",
       "      <td>112.424</td>\n",
       "      <td>1.29429</td>\n",
       "      <td>1.51167</td>\n",
       "    </tr>\n",
       "  </tbody>\n",
       "</table>\n",
       "<p>5 rows × 29 columns</p>\n",
       "</div>"
      ],
      "text/plain": [
       "           C2N3C4    C2_N3   C4C5C6   C4C5N7    C4N9C   C4N9C8    C4_C5  \\\n",
       "ACADOS_0  111.432  1.33764  117.108  110.659  127.614  106.632  1.37783   \n",
       "ACEQEH_1  110.230  1.33271  116.578  110.532  126.120  105.864  1.38725   \n",
       "ACOQIS_2  108.961  1.33352  118.557  110.027  126.771  103.814  1.38600   \n",
       "ACUHUB_3  110.659  1.32858  117.117  110.835  126.903  105.837  1.38369   \n",
       "ADBURM_4  113.465  1.31135  116.657  109.038  126.722  105.755  1.36964   \n",
       "\n",
       "            C4_N9   C5C4N9   C5C6NH  ...   N1C6C5   N1C6NH    N1_C2    N1_C6  \\\n",
       "ACADOS_0  1.38011  105.505  123.811  ...  117.658  118.529  1.33326  1.33908   \n",
       "ACEQEH_1  1.37649  106.007  123.803  ...  117.605  118.560  1.34385  1.35896   \n",
       "ACOQIS_2  1.38020  107.045  124.965  ...  116.701  118.326  1.32801  1.35923   \n",
       "ACUHUB_3  1.36764  105.886  123.672  ...  117.943  118.383  1.34519  1.36154   \n",
       "ADBURM_4  1.33902  107.258  121.909  ...  120.398  117.626  1.34310  1.30052   \n",
       "\n",
       "           N3C4C5   N3C4N9    N3_C4   N7C8N9    N7_C8     N9_C  \n",
       "ACADOS_0  126.186  128.307  1.33800  113.531  1.31459  1.45412  \n",
       "ACEQEH_1  127.428  126.564  1.35059  114.096  1.31957  1.46248  \n",
       "ACOQIS_2  126.123  126.778  1.35514  116.067  1.30980  1.45834  \n",
       "ACUHUB_3  126.636  127.476  1.35036  113.886  1.31008  1.45013  \n",
       "ADBURM_4  123.753  128.885  1.35823  112.424  1.29429  1.51167  \n",
       "\n",
       "[5 rows x 29 columns]"
      ]
     },
     "execution_count": 10,
     "metadata": {},
     "output_type": "execute_result"
    }
   ],
   "source": [
    "import pandas as pd\n",
    "import numpy as np\n",
    "\n",
    "df = pd.DataFrame([h.measurements for h in hits], index=list([h.identifier + \"_\" + str(idx) for idx, h in enumerate(hits)]))\n",
    "df.head()"
   ]
  },
  {
   "cell_type": "markdown",
   "metadata": {
    "slideshow": {
     "slide_type": "slide"
    }
   },
   "source": [
    "Odpytywanie baz danych (analiza wyników)\n",
    "======================================"
   ]
  },
  {
   "cell_type": "code",
   "execution_count": 11,
   "metadata": {
    "slideshow": {
     "slide_type": "-"
    }
   },
   "outputs": [
    {
     "data": {
      "image/png": "[encoded data removed]",
      "text/plain": [
       "<Figure size 1152x576 with 12 Axes>"
      ]
     },
     "metadata": {
      "needs_background": "light"
     },
     "output_type": "display_data"
    }
   ],
   "source": [
    "bonds = ['N1_C2', 'C2_N3', 'N3_C4', 'C4_C5', 'C5_C6', 'N1_C6', 'C5_N7', 'N7_C8', 'C8_N9', 'N9_C', 'C6_NH']\n",
    "df.loc[:, bonds].hist(bins=20, figsize=(16, 8), grid=False, layout=(3,4));"
   ]
  },
  {
   "cell_type": "markdown",
   "metadata": {
    "slideshow": {
     "slide_type": "slide"
    }
   },
   "source": [
    "Analiza danych\n",
    "=============\n",
    "\n",
    "Jako przykład spróbujemy przeanalizować jakość struktur w PDB z podziałem na rozdzielczość, lata i czasopisma. \n",
    "\n",
    "*Dane dzięki uprzejmości Zbyszka Dautera*"
   ]
  },
  {
   "cell_type": "code",
   "execution_count": 12,
   "metadata": {
    "slideshow": {
     "slide_type": "fragment"
    }
   },
   "outputs": [
    {
     "data": {
      "text/html": [
       "<div>\n",
       "<style scoped>\n",
       "    .dataframe tbody tr th:only-of-type {\n",
       "        vertical-align: middle;\n",
       "    }\n",
       "\n",
       "    .dataframe tbody tr th {\n",
       "        vertical-align: top;\n",
       "    }\n",
       "\n",
       "    .dataframe thead th {\n",
       "        text-align: right;\n",
       "    }\n",
       "</style>\n",
       "<table border=\"1\" class=\"dataframe\">\n",
       "  <thead>\n",
       "    <tr style=\"text-align: right;\">\n",
       "      <th></th>\n",
       "      <th>PDB code</th>\n",
       "      <th>Resolution</th>\n",
       "      <th>Date</th>\n",
       "      <th>Rfree_percentile_abs</th>\n",
       "      <th>Clash_percentile_abs</th>\n",
       "      <th>Ramachandran_percentile_abs</th>\n",
       "      <th>Rota_percentile_abs</th>\n",
       "      <th>RSRZ_percentile_abs</th>\n",
       "      <th>Rfree_percentile_rel</th>\n",
       "      <th>Clash_percentile_rel</th>\n",
       "      <th>Ramachandran_percentile_rel</th>\n",
       "      <th>Rota_percentile_rel</th>\n",
       "      <th>RSRZ_percentile_rel</th>\n",
       "      <th>Rfree_raw</th>\n",
       "      <th>Clash_raw</th>\n",
       "      <th>Ramachandran_raw</th>\n",
       "      <th>Rota_raw</th>\n",
       "      <th>RSRZ_raw</th>\n",
       "    </tr>\n",
       "  </thead>\n",
       "  <tbody>\n",
       "    <tr>\n",
       "      <th>0</th>\n",
       "      <td>100d</td>\n",
       "      <td>1.90</td>\n",
       "      <td>19941205</td>\n",
       "      <td>NaN</td>\n",
       "      <td>64.4</td>\n",
       "      <td>NaN</td>\n",
       "      <td>NaN</td>\n",
       "      <td>100.0</td>\n",
       "      <td>NaN</td>\n",
       "      <td>59.9</td>\n",
       "      <td>NaN</td>\n",
       "      <td>NaN</td>\n",
       "      <td>100.0</td>\n",
       "      <td>NaN</td>\n",
       "      <td>4.46</td>\n",
       "      <td>NaN</td>\n",
       "      <td>NaN</td>\n",
       "      <td>0.00</td>\n",
       "    </tr>\n",
       "    <tr>\n",
       "      <th>1</th>\n",
       "      <td>101d</td>\n",
       "      <td>2.25</td>\n",
       "      <td>19941214</td>\n",
       "      <td>NaN</td>\n",
       "      <td>13.4</td>\n",
       "      <td>NaN</td>\n",
       "      <td>NaN</td>\n",
       "      <td>NaN</td>\n",
       "      <td>NaN</td>\n",
       "      <td>9.3</td>\n",
       "      <td>NaN</td>\n",
       "      <td>NaN</td>\n",
       "      <td>NaN</td>\n",
       "      <td>NaN</td>\n",
       "      <td>17.22</td>\n",
       "      <td>NaN</td>\n",
       "      <td>NaN</td>\n",
       "      <td>NaN</td>\n",
       "    </tr>\n",
       "    <tr>\n",
       "      <th>2</th>\n",
       "      <td>101m</td>\n",
       "      <td>2.07</td>\n",
       "      <td>19971213</td>\n",
       "      <td>85.1</td>\n",
       "      <td>14.0</td>\n",
       "      <td>100.0</td>\n",
       "      <td>41.9</td>\n",
       "      <td>88.9</td>\n",
       "      <td>93.7</td>\n",
       "      <td>5.2</td>\n",
       "      <td>100.0</td>\n",
       "      <td>35.3</td>\n",
       "      <td>90.4</td>\n",
       "      <td>0.2</td>\n",
       "      <td>16.75</td>\n",
       "      <td>0.0</td>\n",
       "      <td>3.17</td>\n",
       "      <td>0.65</td>\n",
       "    </tr>\n",
       "    <tr>\n",
       "      <th>3</th>\n",
       "      <td>102d</td>\n",
       "      <td>2.20</td>\n",
       "      <td>19941215</td>\n",
       "      <td>NaN</td>\n",
       "      <td>84.6</td>\n",
       "      <td>NaN</td>\n",
       "      <td>NaN</td>\n",
       "      <td>100.0</td>\n",
       "      <td>NaN</td>\n",
       "      <td>89.0</td>\n",
       "      <td>NaN</td>\n",
       "      <td>NaN</td>\n",
       "      <td>100.0</td>\n",
       "      <td>NaN</td>\n",
       "      <td>2.49</td>\n",
       "      <td>NaN</td>\n",
       "      <td>NaN</td>\n",
       "      <td>0.00</td>\n",
       "    </tr>\n",
       "    <tr>\n",
       "      <th>4</th>\n",
       "      <td>102l</td>\n",
       "      <td>1.74</td>\n",
       "      <td>19920929</td>\n",
       "      <td>NaN</td>\n",
       "      <td>49.0</td>\n",
       "      <td>100.0</td>\n",
       "      <td>30.9</td>\n",
       "      <td>68.1</td>\n",
       "      <td>NaN</td>\n",
       "      <td>28.2</td>\n",
       "      <td>100.0</td>\n",
       "      <td>8.9</td>\n",
       "      <td>75.0</td>\n",
       "      <td>NaN</td>\n",
       "      <td>6.44</td>\n",
       "      <td>0.0</td>\n",
       "      <td>4.44</td>\n",
       "      <td>1.84</td>\n",
       "    </tr>\n",
       "  </tbody>\n",
       "</table>\n",
       "</div>"
      ],
      "text/plain": [
       "  PDB code  Resolution      Date  Rfree_percentile_abs  Clash_percentile_abs  \\\n",
       "0     100d        1.90  19941205                   NaN                  64.4   \n",
       "1     101d        2.25  19941214                   NaN                  13.4   \n",
       "2     101m        2.07  19971213                  85.1                  14.0   \n",
       "3     102d        2.20  19941215                   NaN                  84.6   \n",
       "4     102l        1.74  19920929                   NaN                  49.0   \n",
       "\n",
       "   Ramachandran_percentile_abs  Rota_percentile_abs  RSRZ_percentile_abs  \\\n",
       "0                          NaN                  NaN                100.0   \n",
       "1                          NaN                  NaN                  NaN   \n",
       "2                        100.0                 41.9                 88.9   \n",
       "3                          NaN                  NaN                100.0   \n",
       "4                        100.0                 30.9                 68.1   \n",
       "\n",
       "   Rfree_percentile_rel  Clash_percentile_rel  Ramachandran_percentile_rel  \\\n",
       "0                   NaN                  59.9                          NaN   \n",
       "1                   NaN                   9.3                          NaN   \n",
       "2                  93.7                   5.2                        100.0   \n",
       "3                   NaN                  89.0                          NaN   \n",
       "4                   NaN                  28.2                        100.0   \n",
       "\n",
       "   Rota_percentile_rel  RSRZ_percentile_rel  Rfree_raw  Clash_raw  \\\n",
       "0                  NaN                100.0        NaN       4.46   \n",
       "1                  NaN                  NaN        NaN      17.22   \n",
       "2                 35.3                 90.4        0.2      16.75   \n",
       "3                  NaN                100.0        NaN       2.49   \n",
       "4                  8.9                 75.0        NaN       6.44   \n",
       "\n",
       "   Ramachandran_raw  Rota_raw  RSRZ_raw  \n",
       "0               NaN       NaN      0.00  \n",
       "1               NaN       NaN       NaN  \n",
       "2               0.0      3.17      0.65  \n",
       "3               NaN       NaN      0.00  \n",
       "4               0.0      4.44      1.84  "
      ]
     },
     "execution_count": 12,
     "metadata": {},
     "output_type": "execute_result"
    }
   ],
   "source": [
    "# wczytujemy dane z plików\n",
    "pdb_df = pd.read_fwf(\"data/percentiles_all.diffr\", names=[\"PDB code\", \"Resolution\", \"Date\", \"Rfree_percentile_abs\", \"Clash_percentile_abs\", \"Ramachandran_percentile_abs\", \"Rota_percentile_abs\", \"RSRZ_percentile_abs\", \"Rfree_percentile_rel\", \"Clash_percentile_rel\", \"Ramachandran_percentile_rel\", \"Rota_percentile_rel\", \"RSRZ_percentile_rel\", \"Rfree_raw\", \"Clash_raw\", \"Ramachandran_raw\", \"Rota_raw\", \"RSRZ_raw\"], na_values=\"NotAv\", infer_nrows=10000)\n",
    "journal_df = pd.read_fwf(\"data/journ.all_xray\", names=[\"PDB code\", \"Journal\", \"Volume\", \"Page\", \"Publication year\"], infer_nrows=10000)\n",
    "\n",
    "pdb_df.head()"
   ]
  },
  {
   "cell_type": "markdown",
   "metadata": {
    "slideshow": {
     "slide_type": "slide"
    }
   },
   "source": [
    "Analiza danych\n",
    "============="
   ]
  },
  {
   "cell_type": "code",
   "execution_count": 13,
   "metadata": {
    "slideshow": {
     "slide_type": "-"
    }
   },
   "outputs": [
    {
     "data": {
      "text/html": [
       "<div>\n",
       "<style scoped>\n",
       "    .dataframe tbody tr th:only-of-type {\n",
       "        vertical-align: middle;\n",
       "    }\n",
       "\n",
       "    .dataframe tbody tr th {\n",
       "        vertical-align: top;\n",
       "    }\n",
       "\n",
       "    .dataframe thead th {\n",
       "        text-align: right;\n",
       "    }\n",
       "</style>\n",
       "<table border=\"1\" class=\"dataframe\">\n",
       "  <thead>\n",
       "    <tr style=\"text-align: right;\">\n",
       "      <th></th>\n",
       "      <th>PDB code</th>\n",
       "      <th>Resolution</th>\n",
       "      <th>Year</th>\n",
       "      <th>RSR Z-score</th>\n",
       "      <th>Journal</th>\n",
       "      <th>Publication year</th>\n",
       "    </tr>\n",
       "  </thead>\n",
       "  <tbody>\n",
       "    <tr>\n",
       "      <th>0</th>\n",
       "      <td>100d</td>\n",
       "      <td>1.9</td>\n",
       "      <td>1994</td>\n",
       "      <td>0.00</td>\n",
       "      <td>NUCLEIC ACIDS RES.</td>\n",
       "      <td>1994</td>\n",
       "    </tr>\n",
       "    <tr>\n",
       "      <th>2</th>\n",
       "      <td>101m</td>\n",
       "      <td>2.1</td>\n",
       "      <td>1997</td>\n",
       "      <td>0.65</td>\n",
       "      <td>THESIS, RICE</td>\n",
       "      <td>1999</td>\n",
       "    </tr>\n",
       "    <tr>\n",
       "      <th>3</th>\n",
       "      <td>102d</td>\n",
       "      <td>2.2</td>\n",
       "      <td>1994</td>\n",
       "      <td>0.00</td>\n",
       "      <td>J.MED.CHEM.</td>\n",
       "      <td>1995</td>\n",
       "    </tr>\n",
       "    <tr>\n",
       "      <th>4</th>\n",
       "      <td>102l</td>\n",
       "      <td>1.7</td>\n",
       "      <td>1992</td>\n",
       "      <td>1.84</td>\n",
       "      <td>NATURE</td>\n",
       "      <td>1993</td>\n",
       "    </tr>\n",
       "    <tr>\n",
       "      <th>5</th>\n",
       "      <td>102m</td>\n",
       "      <td>1.8</td>\n",
       "      <td>1997</td>\n",
       "      <td>0.65</td>\n",
       "      <td>THESIS, RICE</td>\n",
       "      <td>1999</td>\n",
       "    </tr>\n",
       "  </tbody>\n",
       "</table>\n",
       "</div>"
      ],
      "text/plain": [
       "  PDB code  Resolution  Year  RSR Z-score             Journal  \\\n",
       "0     100d         1.9  1994         0.00  NUCLEIC ACIDS RES.   \n",
       "2     101m         2.1  1997         0.65        THESIS, RICE   \n",
       "3     102d         2.2  1994         0.00         J.MED.CHEM.   \n",
       "4     102l         1.7  1992         1.84              NATURE   \n",
       "5     102m         1.8  1997         0.65        THESIS, RICE   \n",
       "\n",
       "   Publication year  \n",
       "0              1994  \n",
       "2              1999  \n",
       "3              1995  \n",
       "4              1993  \n",
       "5              1999  "
      ]
     },
     "execution_count": 13,
     "metadata": {},
     "output_type": "execute_result"
    }
   ],
   "source": [
    "# łączymy zbiory danych\n",
    "merged_df = pd.merge(pdb_df, journal_df, on=\"PDB code\")\n",
    "\n",
    "# zostawiamy tylko wybrane kolumny i wiersze bez wartości pustych\n",
    "merged_df = merged_df.loc[:, [\"PDB code\", \"Resolution\", \"Date\", \"RSRZ_raw\", \"Journal\", \"Publication year\"]]\n",
    "merged_df = merged_df.dropna()\n",
    "\n",
    "# czyścimy dane i nazwy kolumn\n",
    "merged_df.loc[:, \"Date\"]  = merged_df.loc[:, \"Date\"].apply(str).str.slice(stop=4).apply(int)\n",
    "merged_df.loc[:, \"Publication year\"] = merged_df.loc[:, \"Publication year\"].astype(int)\n",
    "merged_df.loc[:, \"Resolution\"] = merged_df.loc[:, \"Resolution\"].round(decimals=1)\n",
    "merged_df = merged_df.rename(index=str, columns={\"RSRZ_raw\": \"RSR Z-score\", \"Date\": \"Year\"})\n",
    "\n",
    "merged_df.head()"
   ]
  },
  {
   "cell_type": "markdown",
   "metadata": {
    "slideshow": {
     "slide_type": "slide"
    }
   },
   "source": [
    "Analiza danych\n",
    "============="
   ]
  },
  {
   "cell_type": "code",
   "execution_count": 16,
   "metadata": {
    "slideshow": {
     "slide_type": "-"
    }
   },
   "outputs": [
    {
     "data": {
      "image/png": "[encoded data removed]",
      "text/plain": [
       "<Figure size 1000x500 with 1 Axes>"
      ]
     },
     "metadata": {},
     "output_type": "display_data"
    }
   ],
   "source": [
    "from plotnine import *\n",
    "import plotnine.options\n",
    "plotnine.options.figure_size = (10, 5)\n",
    "\n",
    "resolution_df = merged_df.groupby(['Resolution'], as_index=False).mean()\n",
    "(ggplot(resolution_df, aes(x=\"Resolution\", y=\"RSR Z-score\")) + geom_point() + theme_bw()).draw();"
   ]
  },
  {
   "cell_type": "markdown",
   "metadata": {
    "slideshow": {
     "slide_type": "slide"
    }
   },
   "source": [
    "Analiza danych\n",
    "============="
   ]
  },
  {
   "cell_type": "code",
   "execution_count": 17,
   "metadata": {
    "slideshow": {
     "slide_type": "-"
    }
   },
   "outputs": [
    {
     "data": {
      "image/png": "[encoded data removed]",
      "text/plain": [
       "<Figure size 1000x500 with 1 Axes>"
      ]
     },
     "metadata": {},
     "output_type": "display_data"
    }
   ],
   "source": [
    "year_df = merged_df.groupby(['Year'], as_index=False).mean()\n",
    "(ggplot(year_df, aes(x=\"Year\", y=\"RSR Z-score\")) + geom_point() + theme_bw()).draw();"
   ]
  },
  {
   "cell_type": "markdown",
   "metadata": {
    "slideshow": {
     "slide_type": "slide"
    }
   },
   "source": [
    "Analiza danych\n",
    "============="
   ]
  },
  {
   "cell_type": "code",
   "execution_count": 18,
   "metadata": {
    "slideshow": {
     "slide_type": "-"
    }
   },
   "outputs": [
    {
     "data": {
      "image/png": "[encoded data removed]",
      "text/plain": [
       "<Figure size 1000x500 with 1 Axes>"
      ]
     },
     "metadata": {},
     "output_type": "display_data"
    }
   ],
   "source": [
    "venue_count_df = merged_df.groupby(['Journal'], as_index=False).size()\n",
    "popular_venues = venue_count_df[venue_count_df >= 20].index\n",
    "venue_df = merged_df.loc[merged_df.Journal.isin(popular_venues), :].groupby(['Journal'], as_index=False).mean()\n",
    "\n",
    "top_ten = venue_df.sort_values(by=\"RSR Z-score\", ascending=True).head(20)\n",
    "top_ten['Journal'] = pd.Categorical(top_ten['Journal'], categories=top_ten.Journal)\n",
    "\n",
    "(ggplot(top_ten, aes(x=\"Journal\", y=\"RSR Z-score\")) + geom_bar(stat=\"identity\") \n",
    "    + theme_bw() + theme(axis_text_x = element_text(angle = 90))).draw();"
   ]
  },
  {
   "cell_type": "markdown",
   "metadata": {
    "slideshow": {
     "slide_type": "slide"
    }
   },
   "source": [
    "Analiza danych\n",
    "============="
   ]
  },
  {
   "cell_type": "code",
   "execution_count": 19,
   "metadata": {
    "slideshow": {
     "slide_type": "-"
    }
   },
   "outputs": [
    {
     "data": {
      "image/png": "[encoded data removed]",
      "text/plain": [
       "<Figure size 1000x500 with 1 Axes>"
      ]
     },
     "metadata": {},
     "output_type": "display_data"
    }
   ],
   "source": [
    "bottom_ten = venue_df.sort_values(by=\"RSR Z-score\", ascending=False).head(20)\n",
    "bottom_ten['Journal'] = pd.Categorical(bottom_ten['Journal'], categories=bottom_ten.Journal)\n",
    "\n",
    "(ggplot(bottom_ten, aes(x=\"Journal\", y=\"RSR Z-score\")) + geom_bar(stat=\"identity\") + theme_bw() \n",
    "    + theme(axis_text_x = element_text(angle = 90))).draw();"
   ]
  },
  {
   "cell_type": "markdown",
   "metadata": {
    "slideshow": {
     "slide_type": "slide"
    }
   },
   "source": [
    "Analiza danych\n",
    "============="
   ]
  },
  {
   "cell_type": "code",
   "execution_count": 21,
   "metadata": {
    "slideshow": {
     "slide_type": "-"
    }
   },
   "outputs": [
    {
     "data": {
      "image/png": "[encoded data removed]",
      "text/plain": [
       "<Figure size 1000x500 with 4 Axes>"
      ]
     },
     "metadata": {},
     "output_type": "display_data"
    }
   ],
   "source": [
    "year_venue_df = merged_df.loc[merged_df.Journal.isin(['FEBS J.', 'SCIENCE', 'NATURE', 'ACTA CRYSTALLOGR.,SECT.D']), :]\\\n",
    "    .groupby(['Year', 'Journal'], as_index=False).median()\n",
    "\n",
    "(ggplot(year_venue_df, aes(x=\"Year\", y=\"RSR Z-score\", color=\"Journal\")) + geom_point() +\n",
    "    facet_grid('.~Journal') + geom_smooth(method=\"glm\") + theme_bw()).draw();"
   ]
  },
  {
   "cell_type": "markdown",
   "metadata": {
    "slideshow": {
     "slide_type": "slide"
    }
   },
   "source": [
    "Podsumowanie\n",
    "============\n",
    "\n",
    "- Warto aby badania były **powtarzalne** i **odtwarzalne**\n",
    "- Dane (wraz z historią) łatwo przechowywać na **repozytorium**\n",
    "- Analiza może być napisana w postaci **notatnika**\n",
    "- Zbiory danych można wgrać na **Zenodo**\n",
    "- Przykłady zastosowań **w krystalografii**:\n",
    "    - Uruchamianie skryptów\n",
    "    - Zapytania do bazy CSD\n",
    "    - Wizualizacje danych\n",
    "    - Analiza danych z bazy PDB\n",
    "    \n",
    "<br />\n",
    "Kod prezentacji: https://github.com/dabrze/cbb_reproducibility"
   ]
  },
  {
   "cell_type": "markdown",
   "metadata": {
    "slideshow": {
     "slide_type": "slide"
    }
   },
   "source": [
    "Linki\n",
    "======\n",
    "\n",
    "- https://tortoisegit.org/ <img src=\"images/linki.png\" alt=\"linki\" style=\"float: right; margin-top: 0; margin-left: 50px; width: 200px\"/>\n",
    "- https://github.com/\n",
    "- https://jupyter.org/\n",
    "- https://zenodo.org/\n",
    "- [CSD Python API](https://downloads.ccdc.cam.ac.uk/documentation/API/descriptive_docs/primer.html)\n",
    "- https://bitmoji.com/"
   ]
  }
 ],
 "metadata": {
  "celltoolbar": "Slideshow",
  "kernelspec": {
   "display_name": "Python 2",
   "language": "python",
   "name": "python2"
  },
  "language_info": {
   "codemirror_mode": {
    "name": "ipython",
    "version": 2
   },
   "file_extension": ".py",
   "mimetype": "text/x-python",
   "name": "python",
   "nbconvert_exporter": "python",
   "pygments_lexer": "ipython2",
   "version": "2.7.15"
  }
 },
 "nbformat": 4,
 "nbformat_minor": 2
}
